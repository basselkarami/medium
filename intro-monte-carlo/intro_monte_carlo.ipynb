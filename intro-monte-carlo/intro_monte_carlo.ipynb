{
 "cells": [
  {
   "cell_type": "markdown",
   "metadata": {},
   "source": [
    "# Imports"
   ]
  },
  {
   "cell_type": "code",
   "execution_count": 1,
   "metadata": {
    "ExecuteTime": {
     "end_time": "2020-12-18T17:04:35.436588Z",
     "start_time": "2020-12-18T17:04:34.390415Z"
    }
   },
   "outputs": [
    {
     "name": "stderr",
     "output_type": "stream",
     "text": [
      "/Users/bkarami/opt/anaconda3/lib/python3.7/site-packages/statsmodels/tools/_testing.py:19: FutureWarning: pandas.util.testing is deprecated. Use the functions in the public API at pandas.testing instead.\n",
      "  import pandas.util.testing as tm\n"
     ]
    }
   ],
   "source": [
    "import numpy as np\n",
    "import pandas as pd\n",
    "import seaborn as sns\n",
    "import matplotlib as mpl\n",
    "import matplotlib.pyplot as plt"
   ]
  },
  {
   "cell_type": "markdown",
   "metadata": {},
   "source": [
    "# Config"
   ]
  },
  {
   "cell_type": "code",
   "execution_count": 2,
   "metadata": {
    "ExecuteTime": {
     "end_time": "2020-12-18T17:04:35.443377Z",
     "start_time": "2020-12-18T17:04:35.440072Z"
    }
   },
   "outputs": [],
   "source": [
    "# Matplotlib styling configuration\n",
    "mpl.style.use(\"fivethirtyeight\")\n",
    "mpl.rcParams[\"figure.figsize\"] = (10, 10)"
   ]
  },
  {
   "cell_type": "markdown",
   "metadata": {},
   "source": [
    "# Simulation for Example 1 in Medium Article"
   ]
  },
  {
   "cell_type": "code",
   "execution_count": 3,
   "metadata": {
    "ExecuteTime": {
     "end_time": "2020-12-18T17:04:35.549279Z",
     "start_time": "2020-12-18T17:04:35.446273Z"
    }
   },
   "outputs": [],
   "source": [
    "# Specify number of monte carlo simulations\n",
    "N_ROUNDS = 10000\n",
    "\n",
    "results = []\n",
    "results_detailed = {\"Sales (USD mln)\": [],\n",
    "                    \"Base Sales (Without Patent)\": [],\n",
    "                    \"Patent\": [],\n",
    "                    \"Patent Markup\": []\n",
    "                   }\n",
    "\n",
    "np.random.seed(1)\n",
    "\n",
    "for rnd in range(N_ROUNDS):\n",
    "    prob_patent = np.random.randint(0, 2)\n",
    "    base_sales = round(np.random.triangular(1e6, 3e6, 9e6)\n",
    "        / 1000000, 2)\n",
    "    patent_markup = np.random.triangular(0.25, 0.5, 0.75)\n",
    "    sales = round(base_sales + (base_sales * prob_patent * patent_markup), 2)\n",
    "        \n",
    "    results.append(sales)\n",
    "    \n",
    "    is_patented = \"Yes\" if prob_patent == 1 else \"No\"\n",
    "    adjusted_patent_markup = patent_markup if prob_patent == 1 else 0\n",
    "    \n",
    "    results_detailed[\"Sales (USD mln)\"].append(sales)\n",
    "    results_detailed[\"Base Sales (Without Patent)\"].append(base_sales)\n",
    "    results_detailed[\"Patent\"].append(is_patented)\n",
    "    results_detailed[\"Patent Markup\"].append(adjusted_patent_markup)    "
   ]
  },
  {
   "cell_type": "code",
   "execution_count": 4,
   "metadata": {
    "ExecuteTime": {
     "end_time": "2020-12-18T17:04:35.572346Z",
     "start_time": "2020-12-18T17:04:35.551484Z"
    }
   },
   "outputs": [
    {
     "data": {
      "text/html": [
       "<div>\n",
       "<style scoped>\n",
       "    .dataframe tbody tr th:only-of-type {\n",
       "        vertical-align: middle;\n",
       "    }\n",
       "\n",
       "    .dataframe tbody tr th {\n",
       "        vertical-align: top;\n",
       "    }\n",
       "\n",
       "    .dataframe thead th {\n",
       "        text-align: right;\n",
       "    }\n",
       "</style>\n",
       "<table border=\"1\" class=\"dataframe\">\n",
       "  <thead>\n",
       "    <tr style=\"text-align: right;\">\n",
       "      <th></th>\n",
       "      <th>Sales (USD mln)</th>\n",
       "      <th>Base Sales (Without Patent)</th>\n",
       "      <th>Patent</th>\n",
       "      <th>Patent Markup</th>\n",
       "    </tr>\n",
       "  </thead>\n",
       "  <tbody>\n",
       "    <tr>\n",
       "      <th>0</th>\n",
       "      <td>14.31</td>\n",
       "      <td>8.63</td>\n",
       "      <td>Yes</td>\n",
       "      <td>0.658183</td>\n",
       "    </tr>\n",
       "    <tr>\n",
       "      <th>1</th>\n",
       "      <td>4.45</td>\n",
       "      <td>3.21</td>\n",
       "      <td>Yes</td>\n",
       "      <td>0.385442</td>\n",
       "    </tr>\n",
       "    <tr>\n",
       "      <th>2</th>\n",
       "      <td>3.62</td>\n",
       "      <td>3.62</td>\n",
       "      <td>No</td>\n",
       "      <td>0.000000</td>\n",
       "    </tr>\n",
       "    <tr>\n",
       "      <th>3</th>\n",
       "      <td>3.62</td>\n",
       "      <td>3.62</td>\n",
       "      <td>No</td>\n",
       "      <td>0.000000</td>\n",
       "    </tr>\n",
       "    <tr>\n",
       "      <th>4</th>\n",
       "      <td>3.26</td>\n",
       "      <td>3.26</td>\n",
       "      <td>No</td>\n",
       "      <td>0.000000</td>\n",
       "    </tr>\n",
       "    <tr>\n",
       "      <th>5</th>\n",
       "      <td>6.58</td>\n",
       "      <td>6.58</td>\n",
       "      <td>No</td>\n",
       "      <td>0.000000</td>\n",
       "    </tr>\n",
       "    <tr>\n",
       "      <th>6</th>\n",
       "      <td>6.97</td>\n",
       "      <td>6.97</td>\n",
       "      <td>No</td>\n",
       "      <td>0.000000</td>\n",
       "    </tr>\n",
       "    <tr>\n",
       "      <th>7</th>\n",
       "      <td>3.52</td>\n",
       "      <td>2.50</td>\n",
       "      <td>Yes</td>\n",
       "      <td>0.407362</td>\n",
       "    </tr>\n",
       "    <tr>\n",
       "      <th>8</th>\n",
       "      <td>8.46</td>\n",
       "      <td>5.31</td>\n",
       "      <td>Yes</td>\n",
       "      <td>0.592980</td>\n",
       "    </tr>\n",
       "    <tr>\n",
       "      <th>9</th>\n",
       "      <td>8.39</td>\n",
       "      <td>5.16</td>\n",
       "      <td>Yes</td>\n",
       "      <td>0.625697</td>\n",
       "    </tr>\n",
       "  </tbody>\n",
       "</table>\n",
       "</div>"
      ],
      "text/plain": [
       "   Sales (USD mln)  Base Sales (Without Patent) Patent  Patent Markup\n",
       "0            14.31                         8.63    Yes       0.658183\n",
       "1             4.45                         3.21    Yes       0.385442\n",
       "2             3.62                         3.62     No       0.000000\n",
       "3             3.62                         3.62     No       0.000000\n",
       "4             3.26                         3.26     No       0.000000\n",
       "5             6.58                         6.58     No       0.000000\n",
       "6             6.97                         6.97     No       0.000000\n",
       "7             3.52                         2.50    Yes       0.407362\n",
       "8             8.46                         5.31    Yes       0.592980\n",
       "9             8.39                         5.16    Yes       0.625697"
      ]
     },
     "execution_count": 4,
     "metadata": {},
     "output_type": "execute_result"
    }
   ],
   "source": [
    "pd.DataFrame(results_detailed).head(10)"
   ]
  },
  {
   "cell_type": "code",
   "execution_count": 5,
   "metadata": {
    "ExecuteTime": {
     "end_time": "2020-12-18T17:04:35.782299Z",
     "start_time": "2020-12-18T17:04:35.575041Z"
    },
    "scrolled": false
   },
   "outputs": [
    {
     "data": {
      "image/png": "[encoded data removed]",
      "text/plain": [
       "<Figure size 720x720 with 1 Axes>"
      ]
     },
     "metadata": {},
     "output_type": "display_data"
    }
   ],
   "source": [
    "# Average sales across all the simulated scenarios\n",
    "average_sales = np.mean(results)\n",
    "\n",
    "# Split the results to reflect whether sales exceed 6 mln\n",
    "binned_results = pd.cut(results, bins=[0, 6, 20], labels=[\n",
    "    \"Less than or equal to $6 mln\",\n",
    "    \"Greater than $6 mln\",])\n",
    "\n",
    "# Plot the results\n",
    "sns.barplot(x=binned_results.value_counts().index,\n",
    "            y=binned_results.value_counts().values)\n",
    "\n",
    "for bar_no, bar_val in enumerate(binned_results.value_counts()):\n",
    "    plt.text(bar_no, bar_val, \n",
    "             f\"{round(bar_val * 100 / N_ROUNDS, 2)}%\")\n",
    "\n",
    "plt.title(f\"\"\"\n",
    "Average sales across the simulations is ${round(np.mean(results), 2)} mln\n",
    "\n",
    "There is a {round(100 * np.mean(np.array(results) > 6), 2)}% probability of\n",
    "selling more than $6 mln\n",
    "\"\"\")\n",
    "\n",
    "plt.tick_params(labelleft=False, left=False)\n",
    "\n",
    "plt.show()"
   ]
  },
  {
   "cell_type": "code",
   "execution_count": 6,
   "metadata": {
    "ExecuteTime": {
     "end_time": "2020-12-18T17:04:35.788873Z",
     "start_time": "2020-12-18T17:04:35.784329Z"
    }
   },
   "outputs": [
    {
     "data": {
      "text/plain": [
       "0.0592"
      ]
     },
     "execution_count": 6,
     "metadata": {},
     "output_type": "execute_result"
    }
   ],
   "source": [
    "np.mean(np.array(results) >= 10)"
   ]
  },
  {
   "cell_type": "markdown",
   "metadata": {},
   "source": [
    "# Simulation for Example 2 in Medium Article"
   ]
  },
  {
   "cell_type": "code",
   "execution_count": 7,
   "metadata": {
    "ExecuteTime": {
     "end_time": "2020-12-18T17:04:36.102190Z",
     "start_time": "2020-12-18T17:04:35.792906Z"
    }
   },
   "outputs": [],
   "source": [
    "np.random.seed(1)\n",
    "\n",
    "# Prepare hypothetical data for 5 years i.e. 12 months\n",
    "subscription_data = {\"Month\": range(1, 61), \n",
    "                     \"Net Growth (%)\": np.random.normal(0, 0.05, 60)}\n",
    "\n",
    "# Specify number of monte carlo simulations\n",
    "N_ROUNDS = 10000\n",
    "\n",
    "results = []\n",
    "\n",
    "historical_data = subscription_data[\"Net Growth (%)\"]\n",
    "\n",
    "for rnd in range(N_ROUNDS):\n",
    "    # Randomy selected growth rates from 12 months of history\n",
    "    idx = np.random.randint(0, 60, 12)\n",
    "    selected_growth_rates = historical_data[idx]\n",
    "    \n",
    "    # We are starting with 10,000 users\n",
    "    users = 10000\n",
    "    revenue_per_user = 10\n",
    "    starting_revenue = users * revenue_per_user\n",
    "    \n",
    "    # Calculate revenue for each period then sum them up\n",
    "    # to get total revenue across the selected 12 months\n",
    "    # starting revenue is the first entry used to calculate\n",
    "    # subsequent months but we drop it from the final calculation\n",
    "    revenue_per_month = [starting_revenue]\n",
    "    for growth_rate in selected_growth_rates:\n",
    "        revenue_per_month.append(\n",
    "            (1 + growth_rate) * revenue_per_month[-1])\n",
    "    \n",
    "    # Drop the pre-simulation starting month revenue\n",
    "    total_revenue = np.sum(revenue_per_month[1:])\n",
    "    results.append(total_revenue)"
   ]
  },
  {
   "cell_type": "code",
   "execution_count": 8,
   "metadata": {
    "ExecuteTime": {
     "end_time": "2020-12-18T17:04:36.409565Z",
     "start_time": "2020-12-18T17:04:36.105653Z"
    }
   },
   "outputs": [
    {
     "data": {
      "image/png": "[encoded data removed]",
      "text/plain": [
       "<Figure size 720x720 with 1 Axes>"
      ]
     },
     "metadata": {},
     "output_type": "display_data"
    }
   ],
   "source": [
    "ax = sns.distplot(results, kde=False, norm_hist=True)\n",
    "ax.set_xlabel(\"Annual revenue across simulated 12 months\")\n",
    "ax.set_ylabel(\"Probability\")\n",
    "plt.title(f\"\"\"\n",
    "Average annual revenue across simulations: \n",
    "USD {round(np.mean(results) / 1e6, 2)} million\n",
    "\"\"\")\n",
    "plt.show()"
   ]
  },
  {
   "cell_type": "code",
   "execution_count": 9,
   "metadata": {
    "ExecuteTime": {
     "end_time": "2020-12-18T17:04:36.421166Z",
     "start_time": "2020-12-18T17:04:36.412650Z"
    }
   },
   "outputs": [
    {
     "data": {
      "text/plain": [
       "950497.2898857256"
      ]
     },
     "execution_count": 9,
     "metadata": {},
     "output_type": "execute_result"
    }
   ],
   "source": [
    "sorted(results)[100]"
   ]
  }
 ],
 "metadata": {
  "kernelspec": {
   "display_name": "Python 3",
   "language": "python",
   "name": "python3"
  },
  "language_info": {
   "codemirror_mode": {
    "name": "ipython",
    "version": 3
   },
   "file_extension": ".py",
   "mimetype": "text/x-python",
   "name": "python",
   "nbconvert_exporter": "python",
   "pygments_lexer": "ipython3",
   "version": "3.7.4"
  },
  "toc": {
   "base_numbering": 1,
   "nav_menu": {},
   "number_sections": true,
   "sideBar": true,
   "skip_h1_title": false,
   "title_cell": "Table of Contents",
   "title_sidebar": "Contents",
   "toc_cell": false,
   "toc_position": {},
   "toc_section_display": true,
   "toc_window_display": false
  },
  "varInspector": {
   "cols": {
    "lenName": 16,
    "lenType": 16,
    "lenVar": 40
   },
   "kernels_config": {
    "python": {
     "delete_cmd_postfix": "",
     "delete_cmd_prefix": "del ",
     "library": "var_list.py",
     "varRefreshCmd": "print(var_dic_list())"
    },
    "r": {
     "delete_cmd_postfix": ") ",
     "delete_cmd_prefix": "rm(",
     "library": "var_list.r",
     "varRefreshCmd": "cat(var_dic_list()) "
    }
   },
   "types_to_exclude": [
    "module",
    "function",
    "builtin_function_or_method",
    "instance",
    "_Feature"
   ],
   "window_display": false
  }
 },
 "nbformat": 4,
 "nbformat_minor": 2
}
