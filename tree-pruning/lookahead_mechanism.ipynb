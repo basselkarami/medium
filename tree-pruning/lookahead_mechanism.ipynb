{
 "cells": [
  {
   "cell_type": "markdown",
   "metadata": {},
   "source": [
    "# Imports"
   ]
  },
  {
   "cell_type": "code",
   "execution_count": null,
   "metadata": {
    "ExecuteTime": {
     "end_time": "2021-03-06T11:10:44.007555Z",
     "start_time": "2021-03-06T11:10:44.003617Z"
    }
   },
   "outputs": [],
   "source": [
    "import numpy as np\n",
    "import pandas as pd\n",
    "import matplotlib as mpl\n",
    "import matplotlib.pyplot as plt\n",
    "import seaborn as sns\n",
    "from sklearn.datasets import make_classification\n",
    "from sklearn.tree import DecisionTreeClassifier\n",
    "from sklearn.model_selection import train_test_split\n",
    "from sklearn.metrics import *\n",
    "from collections import deque\n",
    "from copy import copy"
   ]
  },
  {
   "cell_type": "markdown",
   "metadata": {},
   "source": [
    "# Create Classification Dataset"
   ]
  },
  {
   "cell_type": "code",
   "execution_count": null,
   "metadata": {
    "ExecuteTime": {
     "end_time": "2021-03-06T11:10:45.133881Z",
     "start_time": "2021-03-06T11:10:45.124072Z"
    }
   },
   "outputs": [],
   "source": [
    "RANDOM_STATE = 1\n",
    "\n",
    "clf_data = make_classification(\n",
    "    n_samples=1000,\n",
    "    n_features=20,\n",
    "    n_informative=10,\n",
    "    n_redundant=2,\n",
    "    n_classes=2,\n",
    "    shuffle=True,\n",
    "    random_state=RANDOM_STATE,\n",
    ")\n",
    "\n",
    "X_train, X_test, y_train, y_test = train_test_split(\n",
    "    clf_data[0], clf_data[1], test_size=0.2, random_state=RANDOM_STATE)"
   ]
  },
  {
   "cell_type": "markdown",
   "metadata": {},
   "source": [
    "# Custom Decision Tree"
   ]
  },
  {
   "cell_type": "code",
   "execution_count": null,
   "metadata": {
    "ExecuteTime": {
     "end_time": "2021-03-06T11:10:46.457783Z",
     "start_time": "2021-03-06T11:10:46.425171Z"
    }
   },
   "outputs": [],
   "source": [
    "class CustomDT():\n",
    "    def __init__(self, ppoints=10, max_depth=5):\n",
    "        self.ppoints = ppoints\n",
    "        self.max_depth = max_depth\n",
    "        self.depth = 0\n",
    "        self.parents = []\n",
    "\n",
    "    def _update_splits(self, X, y):\n",
    "        percentiles = np.linspace(0, 100, min(self.ppoints, X.shape[0]))\n",
    "        feat_idxs = range(X.shape[1])\n",
    "\n",
    "        potential_splits = [list(zip([feat_idx]*min(self.ppoints, X.shape[0]),\n",
    "                                     np.percentile(X[:, feat_idx], percentiles)))\n",
    "                            for feat_idx in feat_idxs]\n",
    "\n",
    "        potential_splits = np.array(potential_splits).reshape(\n",
    "            X.shape[1] * min(self.ppoints, X.shape[0]), 2)\n",
    "\n",
    "        np.random.shuffle(potential_splits)\n",
    "        self.splits = potential_splits\n",
    "\n",
    "    def _find_best_split(self, X, y):\n",
    "        ginis = []\n",
    "\n",
    "        for feat_idx, split_point in self.splits:\n",
    "            mask = (X[:, int(feat_idx)] >= split_point)\n",
    "            y_left = y[~mask]\n",
    "            y_right = y[mask]\n",
    "            prob1_left = np.mean(y_left)\n",
    "            prob1_right = np.mean(y_right)\n",
    "            gini_left = 1 - (prob1_left**2) - ((1-prob1_left)**2)\n",
    "            gini_right = 1 - (prob1_right**2) - ((1-prob1_right)**2)\n",
    "            gini = ((len(y_left)*gini_left) +\n",
    "                    (len(y_right)*gini_right)) / len(y)\n",
    "            ginis.append(gini)\n",
    "\n",
    "        opt_idx = np.nanargmin(ginis)\n",
    "        self.gini = ginis[opt_idx]\n",
    "        self.opt_feat_idx = int(self.splits[opt_idx][0])\n",
    "        self.opt_split_point = self.splits[opt_idx][1]\n",
    "        self.rule_left = lambda A: A[:, self.opt_feat_idx] < self.opt_split_point\n",
    "        self.rule_right = lambda A: A[:, self.opt_feat_idx] >= self.opt_split_point\n",
    "\n",
    "    def _find_best_split_lookahead(self, X, y, lookahead_depth=1):\n",
    "        ginis_lookahead = []\n",
    "\n",
    "        for feat_idx, split_point in self.splits:\n",
    "            mask = (X[:, int(feat_idx)] >= split_point)\n",
    "            \n",
    "            if X[~mask].shape[0] > 1:\n",
    "                lookahead_left = CustomDT(ppoints=self.ppoints, max_depth=lookahead_depth)\n",
    "                lookahead_left.train(X[~mask], y[~mask])\n",
    "                gini_left_lookahead = lookahead_left.gini\n",
    "            else:\n",
    "                gini_left_lookahead = 0\n",
    "            \n",
    "            if X[mask].shape[0] > 1:\n",
    "                lookahead_right = CustomDT(ppoints=self.ppoints, max_depth=lookahead_depth)\n",
    "                lookahead_right.train(X[mask], y[mask])\n",
    "                gini_right_lookahead = lookahead_right.gini\n",
    "            else:\n",
    "                gini_right_lookahead = 1\n",
    "            \n",
    "            gini_lookahead = ((len(y[~mask])*gini_left_lookahead) +\n",
    "                    (len(y[mask])*gini_right_lookahead)) / len(y)\n",
    "            ginis_lookahead.append(gini_lookahead)\n",
    "            \n",
    "        opt_idx = np.nanargmin(ginis_lookahead)\n",
    "        self.gini = ginis_lookahead[opt_idx]\n",
    "        self.opt_feat_idx = int(self.splits[opt_idx][0])\n",
    "        self.opt_split_point = self.splits[opt_idx][1]\n",
    "        self.rule_left = lambda A: A[:, self.opt_feat_idx] < self.opt_split_point\n",
    "        self.rule_right = lambda A: A[:, self.opt_feat_idx] >= self.opt_split_point\n",
    "\n",
    "    def train(self, X, y, lookahead_depth=None):\n",
    "        self._update_splits(X, y)\n",
    "        if lookahead_depth == None:\n",
    "            self._find_best_split(X, y)\n",
    "        else:\n",
    "            self._find_best_split_lookahead(X, y, lookahead_depth)\n",
    "        mask = self.rule_right(X)\n",
    "        self.left = CustomDT(ppoints=self.ppoints, max_depth=self.max_depth)\n",
    "        self.left.parents = copy(self.parents)\n",
    "        self.left.parents.append(self)\n",
    "        self.left.prob = np.mean(y[~mask])\n",
    "        self.right = CustomDT(ppoints=self.ppoints, max_depth=self.max_depth)\n",
    "        self.right.parents = copy(self.parents)\n",
    "        self.right.parents.append(self)\n",
    "        self.right.prob = np.mean(y[mask])\n",
    "        self.left.depth = self.right.depth = self.depth + 1\n",
    "\n",
    "        if self.depth < self.max_depth - 1:\n",
    "            if y[~mask].shape[0] > 1:\n",
    "                self.left.train(X=X[~mask], y=y[~mask])\n",
    "            if y[mask].shape[0] > 1:\n",
    "                self.right.train(X=X[mask], y=y[mask])\n",
    "\n",
    "    def _predict(self, X):\n",
    "        if self.depth == 0:\n",
    "            self.y_pred = []\n",
    "            self.pred_mask_left = self.rule_left(X)\n",
    "            self.pred_mask_right = self.rule_right(X)\n",
    "            if self.max_depth == 1:\n",
    "                self.y_pred.append(self.pred_mask_left * self.left.prob)\n",
    "                self.y_pred.append(self.pred_mask_right * self.right.prob)\n",
    "                return None\n",
    "        \n",
    "        if hasattr(self.left, 'rule_left'):\n",
    "            self.left.pred_mask_left = self.left.rule_left(X) * self.pred_mask_left\n",
    "            self.left.pred_mask_right = self.left.rule_right(X) * self.pred_mask_left\n",
    "        else:\n",
    "            self.parents[0].y_pred.append(self.pred_mask_left * self.left.prob)\n",
    "        \n",
    "        if hasattr(self.right, 'rule_left'):\n",
    "            self.right.pred_mask_left = self.right.rule_left(X) * self.pred_mask_right\n",
    "            self.right.pred_mask_right = self.right.rule_right(X) * self.pred_mask_right\n",
    "        else:\n",
    "            self.parents[0].y_pred.append(self.pred_mask_right * self.right.prob)\n",
    "\n",
    "        if self.depth == self.max_depth - 1:\n",
    "            if hasattr(self.left, 'rule_left'):\n",
    "                self.parents[0].y_pred.append(self.pred_mask_left * self.left.prob)\n",
    "            if hasattr(self.right, 'rule_left'):\n",
    "                self.parents[0].y_pred.append(self.pred_mask_right * self.right.prob)\n",
    "        \n",
    "        if self.depth < self.max_depth - 1:\n",
    "            if hasattr(self.left, 'rule_left'):\n",
    "                self.left._predict(X)\n",
    "            if hasattr(self.right, 'rule_left'):\n",
    "                self.right._predict(X)\n",
    "                \n",
    "    def predict(self, X, prob=False):\n",
    "        self._predict(X)\n",
    "        self.y_pred = np.sum(self.y_pred, axis=0)\n",
    "        if prob == False:\n",
    "            self.y_pred = np.round(self.y_pred)\n",
    "        return self.y_pred"
   ]
  },
  {
   "cell_type": "markdown",
   "metadata": {},
   "source": [
    "# Check Against Sklearn Decision Tree"
   ]
  },
  {
   "cell_type": "code",
   "execution_count": null,
   "metadata": {
    "ExecuteTime": {
     "end_time": "2021-03-06T11:13:06.375113Z",
     "start_time": "2021-03-06T11:13:04.541063Z"
    }
   },
   "outputs": [],
   "source": [
    "# Sklearn decision tree\n",
    "sk_dt = DecisionTreeClassifier(max_depth=3, \n",
    "                               random_state=RANDOM_STATE)\n",
    "# Custom decision tree\n",
    "custom_dt = CustomDT(max_depth=3, \n",
    "                     ppoints=1000) # percentile/split points\n",
    "\n",
    "sk_dt.fit(X_train, y_train)\n",
    "custom_dt.train(X_train, y_train)\n",
    "\n",
    "sk_preds = sk_dt.predict(X_test)\n",
    "custom_preds = custom_dt.predict(X_test)\n",
    "\n",
    "# Check if predictions are the same\n",
    "print(\"Predictions match rate: \"\\\n",
    "    f\"{round(100*(sk_preds == custom_preds).mean())}%\")"
   ]
  },
  {
   "cell_type": "markdown",
   "metadata": {},
   "source": [
    "# Experiment Results"
   ]
  },
  {
   "cell_type": "code",
   "execution_count": null,
   "metadata": {
    "ExecuteTime": {
     "end_time": "2021-03-05T07:21:51.522146Z",
     "start_time": "2021-03-05T07:21:51.518762Z"
    }
   },
   "outputs": [],
   "source": [
    "params = {\n",
    "    \"depth\": [3, 5, 7, 10],\n",
    "    \"ppoints\": [3, 5, 10, 20, 100]\n",
    "}"
   ]
  },
  {
   "cell_type": "code",
   "execution_count": null,
   "metadata": {
    "ExecuteTime": {
     "end_time": "2021-03-05T06:48:26.603451Z",
     "start_time": "2021-03-05T06:48:26.600630Z"
    }
   },
   "outputs": [],
   "source": [
    "params = {\n",
    "    \"depth\": [3, 4],\n",
    "    \"ppoints\": [3, 4]\n",
    "}"
   ]
  },
  {
   "cell_type": "code",
   "execution_count": null,
   "metadata": {
    "ExecuteTime": {
     "end_time": "2021-03-05T07:21:54.506118Z",
     "start_time": "2021-03-05T07:21:54.503066Z"
    }
   },
   "outputs": [],
   "source": [
    "results = {\n",
    "    \"depth\": [],\n",
    "    \"ppoints\": [],\n",
    "    \"lookahead\": [],\n",
    "    \"dataset\": [],\n",
    "    \"f1\": [],\n",
    "    \"roc_auc\": []\n",
    "}"
   ]
  },
  {
   "cell_type": "code",
   "execution_count": null,
   "metadata": {
    "ExecuteTime": {
     "end_time": "2021-03-05T13:26:53.969233Z",
     "start_time": "2021-03-05T07:21:54.758578Z"
    }
   },
   "outputs": [],
   "source": [
    "for depth in params[\"depth\"]:\n",
    "    for ppoints in params[\"ppoints\"]:\n",
    "        custom_dt = CustomDT(\n",
    "            max_depth=depth, \n",
    "            ppoints=ppoints\n",
    "        )\n",
    "        # Decision tree with lookahead\n",
    "        custom_dt_lk = CustomDT(\n",
    "            max_depth=depth, \n",
    "            ppoints=ppoints\n",
    "        )\n",
    "        \n",
    "        custom_dt.train(X_train, \n",
    "                        y_train\n",
    "                       )\n",
    "        custom_dt_lk.train(X_train, \n",
    "                           y_train, \n",
    "                           lookahead_depth=depth\n",
    "                          )\n",
    "        \n",
    "        y_pred_train = custom_dt.predict(X_train)\n",
    "        y_prob_train = custom_dt.predict(X_train, prob=True)\n",
    "        y_pred_train_lk = custom_dt_lk.predict(X_train)\n",
    "        y_prob_train_lk = custom_dt_lk.predict(X_train, prob=True)\n",
    "        y_pred = custom_dt.predict(X_test)\n",
    "        y_prob = custom_dt.predict(X_test, prob=True)\n",
    "        y_pred_lk = custom_dt_lk.predict(X_test)\n",
    "        y_prob_lk = custom_dt_lk.predict(X_test, prob=True)\n",
    "        \n",
    "        for i in range(4):\n",
    "            results[\"depth\"].append(depth)\n",
    "            results[\"ppoints\"].append(ppoints)\n",
    "        \n",
    "        results[\"dataset\"].append(\"train\")\n",
    "        results[\"lookahead\"].append(False)\n",
    "        results[\"f1\"].append(\n",
    "            f1_score(y_train, y_pred_train))\n",
    "        results[\"roc_auc\"].append(\n",
    "            roc_auc_score(y_train, y_prob_train))     \n",
    "\n",
    "        results[\"dataset\"].append(\"train\")\n",
    "        results[\"lookahead\"].append(True)\n",
    "        results[\"f1\"].append(\n",
    "            f1_score(y_train, y_pred_train_lk))\n",
    "        results[\"roc_auc\"].append(\n",
    "            roc_auc_score(y_train, y_prob_train_lk))\n",
    "        \n",
    "        results[\"dataset\"].append(\"test\")\n",
    "        results[\"lookahead\"].append(False)\n",
    "        results[\"f1\"].append(\n",
    "            f1_score(y_test, y_pred))\n",
    "        results[\"roc_auc\"].append(\n",
    "            roc_auc_score(y_test, y_prob))\n",
    "        \n",
    "        results[\"dataset\"].append(\"test\")\n",
    "        results[\"lookahead\"].append(True)\n",
    "        results[\"f1\"].append(\n",
    "            f1_score(y_test, y_pred_lk))\n",
    "        results[\"roc_auc\"].append(\n",
    "            roc_auc_score(y_test, y_prob_lk))"
   ]
  },
  {
   "cell_type": "code",
   "execution_count": null,
   "metadata": {
    "ExecuteTime": {
     "end_time": "2021-03-05T13:58:33.875324Z",
     "start_time": "2021-03-05T13:58:33.854045Z"
    }
   },
   "outputs": [],
   "source": [
    "df_results = pd.DataFrame(results)\n",
    "df_results[df_results.dataset==\"test\"].sort_values(\n",
    "    by=\"roc_auc\", ascending=False)"
   ]
  },
  {
   "cell_type": "code",
   "execution_count": null,
   "metadata": {
    "ExecuteTime": {
     "end_time": "2021-03-06T10:21:48.858266Z",
     "start_time": "2021-03-06T10:21:48.742962Z"
    }
   },
   "outputs": [],
   "source": [
    "df_results = pd.DataFrame(results)\n",
    "df_results[df_results.dataset==\"test\"].sort_values(\n",
    "    by=\"roc_auc\", ascending=False)"
   ]
  },
  {
   "cell_type": "code",
   "execution_count": null,
   "metadata": {
    "ExecuteTime": {
     "end_time": "2021-03-06T10:27:01.561659Z",
     "start_time": "2021-03-06T10:27:01.544303Z"
    }
   },
   "outputs": [],
   "source": [
    "df_results = pd.DataFrame(results)\n",
    "df_results[df_results.dataset==\"test\"].sort_values(\n",
    "    by=\"f1\", ascending=False)"
   ]
  },
  {
   "cell_type": "code",
   "execution_count": null,
   "metadata": {
    "ExecuteTime": {
     "end_time": "2021-03-06T11:03:19.929083Z",
     "start_time": "2021-03-06T11:03:19.666028Z"
    }
   },
   "outputs": [],
   "source": [
    "mpl.style.use(\"fivethirtyeight\")\n",
    "\n",
    "pivoted_results = pd.pivot_table(data=df_results[(\n",
    "    df_results.dataset == \"test\")], \n",
    "    index=[\"depth\", \"ppoints\"], \n",
    "    columns=\"lookahead\", \n",
    "    values=\"roc_auc\")\n",
    "\n",
    "pivoted_results[\"Percent Diff\"] = (pivoted_results[True] \\\n",
    "    / pivoted_results[False] - 1) * 100\n",
    "\n",
    "sns.catplot(data=pivoted_results[\"Percent Diff\"].reset_index(), \n",
    "            x=\"depth\", y=\"Percent Diff\", aspect=16/9, height=7)\n",
    "\n",
    "plt.title(\"Percent Difference in ROC AUC With Lookahead vs. Without\")"
   ]
  }
 ],
 "metadata": {
  "kernelspec": {
   "display_name": "Python 3",
   "language": "python",
   "name": "python3"
  },
  "language_info": {
   "codemirror_mode": {
    "name": "ipython",
    "version": 3
   },
   "file_extension": ".py",
   "mimetype": "text/x-python",
   "name": "python",
   "nbconvert_exporter": "python",
   "pygments_lexer": "ipython3",
   "version": "3.7.4"
  },
  "toc": {
   "base_numbering": 1,
   "nav_menu": {},
   "number_sections": true,
   "sideBar": true,
   "skip_h1_title": false,
   "title_cell": "Table of Contents",
   "title_sidebar": "Contents",
   "toc_cell": false,
   "toc_position": {},
   "toc_section_display": true,
   "toc_window_display": false
  },
  "varInspector": {
   "cols": {
    "lenName": 16,
    "lenType": 16,
    "lenVar": 40
   },
   "kernels_config": {
    "python": {
     "delete_cmd_postfix": "",
     "delete_cmd_prefix": "del ",
     "library": "var_list.py",
     "varRefreshCmd": "print(var_dic_list())"
    },
    "r": {
     "delete_cmd_postfix": ") ",
     "delete_cmd_prefix": "rm(",
     "library": "var_list.r",
     "varRefreshCmd": "cat(var_dic_list()) "
    }
   },
   "types_to_exclude": [
    "module",
    "function",
    "builtin_function_or_method",
    "instance",
    "_Feature"
   ],
   "window_display": false
  }
 },
 "nbformat": 4,
 "nbformat_minor": 2
}
