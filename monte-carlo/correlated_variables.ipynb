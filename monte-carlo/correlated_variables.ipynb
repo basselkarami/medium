{
 "cells": [
  {
   "cell_type": "markdown",
   "metadata": {},
   "source": [
    "# Imports"
   ]
  },
  {
   "cell_type": "code",
   "execution_count": 41,
   "metadata": {
    "ExecuteTime": {
     "end_time": "2021-01-16T08:15:46.878532Z",
     "start_time": "2021-01-16T08:15:46.672693Z"
    }
   },
   "outputs": [],
   "source": [
    "import scipy.stats as ss\n",
    "import numpy as np\n",
    "import pandas as pd\n",
    "import matplotlib.pyplot as plt\n",
    "import seaborn as sns\n",
    "from functools import reduce\n",
    "from sklearn.decomposition import PCA"
   ]
  },
  {
   "cell_type": "markdown",
   "metadata": {},
   "source": [
    "# Data Preparation"
   ]
  },
  {
   "cell_type": "code",
   "execution_count": 3,
   "metadata": {
    "ExecuteTime": {
     "end_time": "2021-01-16T05:17:57.480687Z",
     "start_time": "2021-01-16T05:17:57.477595Z"
    }
   },
   "outputs": [],
   "source": [
    "# Config used to generate sample sales data\n",
    "CORR = 0.9\n",
    "MU = 1.05\n",
    "SIGMA = 0.1\n",
    "START_CHOC = 5\n",
    "START_VAN = 4"
   ]
  },
  {
   "cell_type": "code",
   "execution_count": 4,
   "metadata": {
    "ExecuteTime": {
     "end_time": "2021-01-16T05:17:57.786426Z",
     "start_time": "2021-01-16T05:17:57.779594Z"
    }
   },
   "outputs": [],
   "source": [
    "# Generate sales and growth rates for 20 periods\n",
    "# using a multivariate normal distribution\n",
    "cov_matrix = [[(SIGMA**2), CORR*(SIGMA**2)], \n",
    "              [CORR*(SIGMA**2), (SIGMA**2)]]\n",
    "\n",
    "distribution = ss.multivariate_normal(\n",
    "    mean=[MU, MU], cov=cov_matrix)\n",
    "\n",
    "sample_data = distribution.rvs(20, random_state=5)\n",
    "\n",
    "chocolate_growth = sample_data[:, 0]\n",
    "vanilla_growth = sample_data[:, 1]\n",
    "\n",
    "chocolate_sales = np.cumprod([START_CHOC] + list(chocolate_growth))\n",
    "vanilla_sales = np.cumprod([START_VAN] + list(vanilla_growth))"
   ]
  },
  {
   "cell_type": "code",
   "execution_count": 5,
   "metadata": {
    "ExecuteTime": {
     "end_time": "2021-01-16T05:17:58.198179Z",
     "start_time": "2021-01-16T05:17:58.181273Z"
    }
   },
   "outputs": [
    {
     "data": {
      "text/html": [
       "<div>\n",
       "<style scoped>\n",
       "    .dataframe tbody tr th:only-of-type {\n",
       "        vertical-align: middle;\n",
       "    }\n",
       "\n",
       "    .dataframe tbody tr th {\n",
       "        vertical-align: top;\n",
       "    }\n",
       "\n",
       "    .dataframe thead th {\n",
       "        text-align: right;\n",
       "    }\n",
       "</style>\n",
       "<table border=\"1\" class=\"dataframe\">\n",
       "  <thead>\n",
       "    <tr style=\"text-align: right;\">\n",
       "      <th></th>\n",
       "      <th>Growth Rate - Chocolate</th>\n",
       "      <th>Growth Rate - Vanilla</th>\n",
       "      <th>Sales Chocolate (USD mln)</th>\n",
       "      <th>Sales Vanilla (USD mln)</th>\n",
       "    </tr>\n",
       "  </thead>\n",
       "  <tbody>\n",
       "    <tr>\n",
       "      <th>0</th>\n",
       "      <td>1.014393</td>\n",
       "      <td>0.999596</td>\n",
       "      <td>5.000000</td>\n",
       "      <td>4.000000</td>\n",
       "    </tr>\n",
       "    <tr>\n",
       "      <th>1</th>\n",
       "      <td>0.818715</td>\n",
       "      <td>0.807441</td>\n",
       "      <td>5.071965</td>\n",
       "      <td>3.998384</td>\n",
       "    </tr>\n",
       "    <tr>\n",
       "      <th>2</th>\n",
       "      <td>1.003931</td>\n",
       "      <td>1.074702</td>\n",
       "      <td>4.152492</td>\n",
       "      <td>3.228458</td>\n",
       "    </tr>\n",
       "    <tr>\n",
       "      <th>3</th>\n",
       "      <td>1.151850</td>\n",
       "      <td>1.125392</td>\n",
       "      <td>4.168816</td>\n",
       "      <td>3.469630</td>\n",
       "    </tr>\n",
       "    <tr>\n",
       "      <th>4</th>\n",
       "      <td>1.039091</td>\n",
       "      <td>1.024339</td>\n",
       "      <td>4.801853</td>\n",
       "      <td>3.904693</td>\n",
       "    </tr>\n",
       "    <tr>\n",
       "      <th>5</th>\n",
       "      <td>1.170837</td>\n",
       "      <td>1.161675</td>\n",
       "      <td>4.989561</td>\n",
       "      <td>3.999727</td>\n",
       "    </tr>\n",
       "    <tr>\n",
       "      <th>6</th>\n",
       "      <td>1.071480</td>\n",
       "      <td>1.098468</td>\n",
       "      <td>5.841965</td>\n",
       "      <td>4.646384</td>\n",
       "    </tr>\n",
       "    <tr>\n",
       "      <th>7</th>\n",
       "      <td>1.227920</td>\n",
       "      <td>1.196607</td>\n",
       "      <td>6.259551</td>\n",
       "      <td>5.103906</td>\n",
       "    </tr>\n",
       "    <tr>\n",
       "      <th>8</th>\n",
       "      <td>0.896245</td>\n",
       "      <td>0.979307</td>\n",
       "      <td>7.686227</td>\n",
       "      <td>6.107369</td>\n",
       "    </tr>\n",
       "    <tr>\n",
       "      <th>9</th>\n",
       "      <td>1.182872</td>\n",
       "      <td>1.211711</td>\n",
       "      <td>6.888744</td>\n",
       "      <td>5.980993</td>\n",
       "    </tr>\n",
       "    <tr>\n",
       "      <th>10</th>\n",
       "      <td>1.164738</td>\n",
       "      <td>1.126418</td>\n",
       "      <td>8.148504</td>\n",
       "      <td>7.247233</td>\n",
       "    </tr>\n",
       "    <tr>\n",
       "      <th>11</th>\n",
       "      <td>1.144428</td>\n",
       "      <td>1.125533</td>\n",
       "      <td>9.490870</td>\n",
       "      <td>8.163414</td>\n",
       "    </tr>\n",
       "    <tr>\n",
       "      <th>12</th>\n",
       "      <td>0.936949</td>\n",
       "      <td>0.968809</td>\n",
       "      <td>10.861615</td>\n",
       "      <td>9.188190</td>\n",
       "    </tr>\n",
       "    <tr>\n",
       "      <th>13</th>\n",
       "      <td>1.052359</td>\n",
       "      <td>1.036111</td>\n",
       "      <td>10.176778</td>\n",
       "      <td>8.901603</td>\n",
       "    </tr>\n",
       "    <tr>\n",
       "      <th>14</th>\n",
       "      <td>1.052048</td>\n",
       "      <td>1.047311</td>\n",
       "      <td>10.709626</td>\n",
       "      <td>9.223053</td>\n",
       "    </tr>\n",
       "    <tr>\n",
       "      <th>15</th>\n",
       "      <td>0.986825</td>\n",
       "      <td>0.958580</td>\n",
       "      <td>11.267042</td>\n",
       "      <td>9.659403</td>\n",
       "    </tr>\n",
       "    <tr>\n",
       "      <th>16</th>\n",
       "      <td>1.052864</td>\n",
       "      <td>1.048344</td>\n",
       "      <td>11.118600</td>\n",
       "      <td>9.259314</td>\n",
       "    </tr>\n",
       "    <tr>\n",
       "      <th>17</th>\n",
       "      <td>1.049526</td>\n",
       "      <td>1.060671</td>\n",
       "      <td>11.706370</td>\n",
       "      <td>9.706945</td>\n",
       "    </tr>\n",
       "    <tr>\n",
       "      <th>18</th>\n",
       "      <td>1.000886</td>\n",
       "      <td>1.060583</td>\n",
       "      <td>12.286136</td>\n",
       "      <td>10.295875</td>\n",
       "    </tr>\n",
       "    <tr>\n",
       "      <th>19</th>\n",
       "      <td>1.023551</td>\n",
       "      <td>1.093385</td>\n",
       "      <td>12.297026</td>\n",
       "      <td>10.919626</td>\n",
       "    </tr>\n",
       "    <tr>\n",
       "      <th>20</th>\n",
       "      <td>NaN</td>\n",
       "      <td>NaN</td>\n",
       "      <td>12.586629</td>\n",
       "      <td>11.939350</td>\n",
       "    </tr>\n",
       "  </tbody>\n",
       "</table>\n",
       "</div>"
      ],
      "text/plain": [
       "    Growth Rate - Chocolate  Growth Rate - Vanilla  Sales Chocolate (USD mln)  \\\n",
       "0                  1.014393               0.999596                   5.000000   \n",
       "1                  0.818715               0.807441                   5.071965   \n",
       "2                  1.003931               1.074702                   4.152492   \n",
       "3                  1.151850               1.125392                   4.168816   \n",
       "4                  1.039091               1.024339                   4.801853   \n",
       "5                  1.170837               1.161675                   4.989561   \n",
       "6                  1.071480               1.098468                   5.841965   \n",
       "7                  1.227920               1.196607                   6.259551   \n",
       "8                  0.896245               0.979307                   7.686227   \n",
       "9                  1.182872               1.211711                   6.888744   \n",
       "10                 1.164738               1.126418                   8.148504   \n",
       "11                 1.144428               1.125533                   9.490870   \n",
       "12                 0.936949               0.968809                  10.861615   \n",
       "13                 1.052359               1.036111                  10.176778   \n",
       "14                 1.052048               1.047311                  10.709626   \n",
       "15                 0.986825               0.958580                  11.267042   \n",
       "16                 1.052864               1.048344                  11.118600   \n",
       "17                 1.049526               1.060671                  11.706370   \n",
       "18                 1.000886               1.060583                  12.286136   \n",
       "19                 1.023551               1.093385                  12.297026   \n",
       "20                      NaN                    NaN                  12.586629   \n",
       "\n",
       "    Sales Vanilla (USD mln)  \n",
       "0                  4.000000  \n",
       "1                  3.998384  \n",
       "2                  3.228458  \n",
       "3                  3.469630  \n",
       "4                  3.904693  \n",
       "5                  3.999727  \n",
       "6                  4.646384  \n",
       "7                  5.103906  \n",
       "8                  6.107369  \n",
       "9                  5.980993  \n",
       "10                 7.247233  \n",
       "11                 8.163414  \n",
       "12                 9.188190  \n",
       "13                 8.901603  \n",
       "14                 9.223053  \n",
       "15                 9.659403  \n",
       "16                 9.259314  \n",
       "17                 9.706945  \n",
       "18                10.295875  \n",
       "19                10.919626  \n",
       "20                11.939350  "
      ]
     },
     "execution_count": 5,
     "metadata": {},
     "output_type": "execute_result"
    }
   ],
   "source": [
    "# Prepare dataframes\n",
    "growth_df = pd.DataFrame(data={\n",
    "    \"Growth Rate - Chocolate\": chocolate_growth,\n",
    "    \"Growth Rate - Vanilla\": vanilla_growth})\n",
    "\n",
    "sales_df = pd.DataFrame(data={\n",
    "    \"Sales Chocolate (USD mln)\": chocolate_sales,\n",
    "    \"Sales Vanilla (USD mln)\": vanilla_sales})\n",
    "\n",
    "df = pd.concat([growth_df, sales_df], axis=1)\n",
    "df"
   ]
  },
  {
   "cell_type": "code",
   "execution_count": 17,
   "metadata": {
    "ExecuteTime": {
     "end_time": "2021-01-15T05:27:50.656387Z",
     "start_time": "2021-01-15T05:27:50.301670Z"
    }
   },
   "outputs": [
    {
     "data": {
      "image/png": "[encoded data removed]",
      "text/plain": [
       "<Figure size 960x800 with 1 Axes>"
      ]
     },
     "metadata": {},
     "output_type": "display_data"
    }
   ],
   "source": [
    "# Illustrative plot of correlation in sales\n",
    "plt.style.use(\"classic\")\n",
    "\n",
    "plt.xkcd()\n",
    "\n",
    "plt.figure(figsize=(12, 10))\n",
    "\n",
    "sns.lineplot(x=range(1, 22),\n",
    "             y=sales_df[\"Sales Chocolate (USD mln)\"],\n",
    "             color=\"chocolate\",\n",
    "             marker=\"o\"\n",
    "            )\n",
    "\n",
    "sns.lineplot(x=range(1, 22),\n",
    "             y=sales_df[\"Sales Vanilla (USD mln)\"],\n",
    "             color=\"grey\",\n",
    "             marker=\"o\"\n",
    "            )\n",
    "\n",
    "plt.legend([\"Chocolate\", \"Vanilla\"])\n",
    "\n",
    "plt.title(\"Ice Cream Sales\")\n",
    "\n",
    "plt.ylabel(\"Sales (in USD mln)\")\n",
    "\n",
    "plt.arrow(1, 6, 3, -1, width=0.05, color=\"black\")\n",
    "plt.arrow(7, 7, 7, 6, width=0.05, color=\"black\")\n",
    "\n",
    "plt.annotate(\"Bad years for ice cream\", (1, 6.2))\n",
    "plt.annotate(\"Good years for ice cream\", (6, 12))\n",
    "\n",
    "\n",
    "plt.show()"
   ]
  },
  {
   "cell_type": "code",
   "execution_count": 6,
   "metadata": {
    "ExecuteTime": {
     "end_time": "2021-01-16T05:18:03.841450Z",
     "start_time": "2021-01-16T05:18:03.837669Z"
    }
   },
   "outputs": [
    {
     "name": "stdout",
     "output_type": "stream",
     "text": [
      "Last year's sales (in USD mln):\n",
      "\n",
      "Chocolate: 12.59\n",
      "Vanilla: 11.94\n",
      "\n",
      "Total: 24.53\n"
     ]
    }
   ],
   "source": [
    "final_chocolate = df[\"Sales Chocolate (USD mln)\"].iloc[-1]\n",
    "final_vanilla = df[\"Sales Vanilla (USD mln)\"].iloc[-1]\n",
    "\n",
    "print(f\"\"\"Last year's sales (in USD mln):\n",
    "\\nChocolate: {round(final_chocolate, 2)}\n",
    "Vanilla: {round(final_vanilla, 2)}\n",
    "\\nTotal: {round(final_vanilla + final_chocolate, 2)}\"\"\")"
   ]
  },
  {
   "cell_type": "markdown",
   "metadata": {},
   "source": [
    "# Check: Vanilla > Chocolate"
   ]
  },
  {
   "cell_type": "code",
   "execution_count": 7,
   "metadata": {
    "ExecuteTime": {
     "end_time": "2021-01-16T05:18:06.050449Z",
     "start_time": "2021-01-16T05:18:06.045511Z"
    }
   },
   "outputs": [],
   "source": [
    "def exceed_check(growth_vanilla, growth_chocolate):\n",
    "    '''This function takes sample growth rates for\n",
    "    vanilla and chocolate ice cream sales and checks\n",
    "    if vanilla ice cream sales would exceed chocolate\n",
    "    given the combination of growth rates.\n",
    "    \n",
    "    Args:\n",
    "    growth_vanilla (list): growth rates for vanilla sales\n",
    "    growth_chocolate (list): growth rates for chocolate sales\n",
    "    \n",
    "    Returns:\n",
    "    flags_list (list): A list of True/False flags indicating\n",
    "        whether vanilla sales exceeds chocolate sales for the\n",
    "        given combination of growth rates\n",
    "    mean_pass_rate: Mean value of flags_list indicating the \n",
    "        probability vanilla sales exceeds chocolates given the \n",
    "        combination of growth rates\n",
    "    '''\n",
    "    # Last year's chocolate and vanilla ice cream sales\n",
    "    # set as constants to improve performance\n",
    "    FINAL_CHOCOLATE = 12.59\n",
    "    FINAL_VANILLA = 11.94\n",
    "    \n",
    "    flags_list = [v*FINAL_VANILLA > c*FINAL_CHOCOLATE \n",
    "        for v,c in zip(growth_vanilla, growth_chocolate)]\n",
    "    \n",
    "    mean_pass_rate = np.mean(flags_list)\n",
    "    \n",
    "    return flags_list, mean_pass_rate"
   ]
  },
  {
   "cell_type": "markdown",
   "metadata": {},
   "source": [
    "# Wrong 1"
   ]
  },
  {
   "cell_type": "code",
   "execution_count": 199,
   "metadata": {
    "ExecuteTime": {
     "end_time": "2021-01-16T15:56:08.359807Z",
     "start_time": "2021-01-16T15:56:08.352655Z"
    }
   },
   "outputs": [
    {
     "name": "stdout",
     "output_type": "stream",
     "text": [
      "Mean (Chocolate): 1.0520754233796565\n",
      "Mean (Vanilla): 1.0602491125970805\n",
      "StDev (Chocolate): 0.10189948584349691\n",
      "StDev (Vanilla): 0.09247888186321666\n"
     ]
    }
   ],
   "source": [
    "# Estimate means\n",
    "mean_choc = np.mean(df[\"Growth Rate - Chocolate\"])\n",
    "print(f\"Mean (Chocolate): {mean_choc}\")\n",
    "\n",
    "mean_van = np.mean(df[\"Growth Rate - Vanilla\"])\n",
    "print(f\"Mean (Vanilla): {mean_van}\")\n",
    "\n",
    "# Estimate standard deviations\n",
    "std_choc = np.std(df[\"Growth Rate - Chocolate\"],\n",
    "                 ddof=1)\n",
    "print(f\"StDev (Chocolate): {std_choc}\")\n",
    "\n",
    "std_van = np.std(df[\"Growth Rate - Vanilla\"],\n",
    "                ddof=1)\n",
    "print(f\"StDev (Vanilla): {std_van}\")\n",
    "\n",
    "# Define normal distributions\n",
    "distribution_choc = ss.norm(mean_choc, std_choc)\n",
    "\n",
    "distribution_van = ss.norm(mean_van, std_van)"
   ]
  },
  {
   "cell_type": "code",
   "execution_count": 9,
   "metadata": {
    "ExecuteTime": {
     "end_time": "2021-01-16T05:18:07.730059Z",
     "start_time": "2021-01-16T05:18:07.725797Z"
    }
   },
   "outputs": [],
   "source": [
    "growth_vanilla = distribution_choc.rvs(1000, \n",
    "    random_state=1)\n",
    "\n",
    "growth_chocolate = distribution_van.rvs(1000, \n",
    "    random_state=2)"
   ]
  },
  {
   "cell_type": "code",
   "execution_count": 10,
   "metadata": {
    "ExecuteTime": {
     "end_time": "2021-01-16T05:18:09.481482Z",
     "start_time": "2021-01-16T05:18:09.476860Z"
    }
   },
   "outputs": [
    {
     "data": {
      "text/plain": [
       "0.341"
      ]
     },
     "execution_count": 10,
     "metadata": {},
     "output_type": "execute_result"
    }
   ],
   "source": [
    "exceed_check(growth_vanilla, growth_chocolate)[1]"
   ]
  },
  {
   "cell_type": "markdown",
   "metadata": {},
   "source": [
    "# Wrong 2"
   ]
  },
  {
   "cell_type": "code",
   "execution_count": 11,
   "metadata": {
    "ExecuteTime": {
     "end_time": "2021-01-16T05:18:10.381256Z",
     "start_time": "2021-01-16T05:18:10.376534Z"
    }
   },
   "outputs": [],
   "source": [
    "growth_vanilla = df[\"Growth Rate - Vanilla\"].dropna(\n",
    "    ).sample(1000, replace=True, random_state=1)\n",
    "\n",
    "growth_chocolate = df[\"Growth Rate - Chocolate\"].dropna(\n",
    "    ).sample(1000, replace=True, random_state=2)"
   ]
  },
  {
   "cell_type": "code",
   "execution_count": 12,
   "metadata": {
    "ExecuteTime": {
     "end_time": "2021-01-16T05:18:10.897706Z",
     "start_time": "2021-01-16T05:18:10.893002Z"
    }
   },
   "outputs": [
    {
     "data": {
      "text/plain": [
       "0.359"
      ]
     },
     "execution_count": 12,
     "metadata": {},
     "output_type": "execute_result"
    }
   ],
   "source": [
    "exceed_check(growth_vanilla, growth_chocolate)[1]"
   ]
  },
  {
   "cell_type": "markdown",
   "metadata": {},
   "source": [
    "# Method 1"
   ]
  },
  {
   "cell_type": "code",
   "execution_count": 13,
   "metadata": {
    "ExecuteTime": {
     "end_time": "2021-01-16T05:18:13.374945Z",
     "start_time": "2021-01-16T05:18:13.370384Z"
    }
   },
   "outputs": [
    {
     "data": {
      "text/plain": [
       "0.9293946133516929"
      ]
     },
     "execution_count": 13,
     "metadata": {},
     "output_type": "execute_result"
    }
   ],
   "source": [
    "corr = df.corr().iloc[0, 1]\n",
    "corr"
   ]
  },
  {
   "cell_type": "code",
   "execution_count": 14,
   "metadata": {
    "ExecuteTime": {
     "end_time": "2021-01-16T05:18:13.658384Z",
     "start_time": "2021-01-16T05:18:13.653077Z"
    }
   },
   "outputs": [],
   "source": [
    "# We need to recalculate the covariance matrix\n",
    "# using the estimated paramaters\n",
    "cov_matrix = [[std_choc**2, corr*std_choc*std_van], \n",
    "              [corr*std_choc*std_van, std_van**2]]\n",
    "\n",
    "growth_rates = ss.multivariate_normal(\n",
    "    mean=[mean_choc, mean_van],\n",
    "    cov=cov_matrix).rvs(1000, random_state=1)\n",
    "\n",
    "growth_chocolate = growth_rates[:, 0]\n",
    "growth_vanilla = growth_rates[:, 1]"
   ]
  },
  {
   "cell_type": "code",
   "execution_count": 15,
   "metadata": {
    "ExecuteTime": {
     "end_time": "2021-01-16T05:18:14.210188Z",
     "start_time": "2021-01-16T05:18:14.205024Z"
    }
   },
   "outputs": [
    {
     "data": {
      "text/plain": [
       "0.113"
      ]
     },
     "execution_count": 15,
     "metadata": {},
     "output_type": "execute_result"
    }
   ],
   "source": [
    "exceed_check(growth_vanilla, growth_chocolate)[1]"
   ]
  },
  {
   "cell_type": "markdown",
   "metadata": {},
   "source": [
    "# Method 2"
   ]
  },
  {
   "cell_type": "code",
   "execution_count": 24,
   "metadata": {
    "ExecuteTime": {
     "end_time": "2021-01-16T05:32:40.672922Z",
     "start_time": "2021-01-16T05:32:40.664525Z"
    }
   },
   "outputs": [
    {
     "data": {
      "text/plain": [
       "0.7368421052631579"
      ]
     },
     "execution_count": 24,
     "metadata": {},
     "output_type": "execute_result"
    }
   ],
   "source": [
    "corr = ss.kendalltau(\n",
    "    df.dropna().iloc[:, 0], df.dropna().iloc[:, 1])[0]\n",
    "\n",
    "corr"
   ]
  },
  {
   "cell_type": "code",
   "execution_count": 25,
   "metadata": {
    "ExecuteTime": {
     "end_time": "2021-01-16T05:36:58.762640Z",
     "start_time": "2021-01-16T05:36:58.754635Z"
    }
   },
   "outputs": [
    {
     "name": "stdout",
     "output_type": "stream",
     "text": [
      "(1000, 2)\n"
     ]
    },
    {
     "data": {
      "text/plain": [
       "array([[0.06937355, 0.04359977],\n",
       "       [0.76434993, 0.62444074],\n",
       "       [0.33813501, 0.09984573],\n",
       "       ...,\n",
       "       [0.65691972, 0.68258394],\n",
       "       [0.35280537, 0.23450255],\n",
       "       [0.18501526, 0.35372813]])"
      ]
     },
     "execution_count": 25,
     "metadata": {},
     "output_type": "execute_result"
    }
   ],
   "source": [
    "# We have already calculated corr in the previous section \n",
    "# we set variances to 1 because the covariance matrix we \n",
    "# are constructing will be used with a multivariate normal \n",
    "# distribution of means 0 and std 1 to derive a copula\n",
    "cov_matrix = [[1, corr], \n",
    "              [corr, 1]]\n",
    "\n",
    "# We will draw 1000 combinations from the distribution\n",
    "random_vals = ss.multivariate_normal(cov=cov_matrix).rvs(\n",
    "    1000, random_state=1)\n",
    "\n",
    "# Finally a cumulative density function for a distribution\n",
    "# ranges between 0 to 1 so it will be used to convert the\n",
    "# drawn samples to the values we need for our copula\n",
    "copula = ss.norm.cdf(random_vals)\n",
    "print(copula.shape)\n",
    "copula"
   ]
  },
  {
   "cell_type": "code",
   "execution_count": 26,
   "metadata": {
    "ExecuteTime": {
     "end_time": "2021-01-16T05:37:15.413717Z",
     "start_time": "2021-01-16T05:37:15.240590Z"
    }
   },
   "outputs": [
    {
     "data": {
      "text/plain": [
       "<matplotlib.axes._subplots.AxesSubplot at 0x126e66a90>"
      ]
     },
     "execution_count": 26,
     "metadata": {},
     "output_type": "execute_result"
    },
    {
     "data": {
      "image/png": "[encoded data removed]",
      "text/plain": [
       "<Figure size 432x288 with 1 Axes>"
      ]
     },
     "metadata": {
      "needs_background": "light"
     },
     "output_type": "display_data"
    }
   ],
   "source": [
    "sns.scatterplot(x=copula[:, 0], y=copula[:, 1])"
   ]
  },
  {
   "cell_type": "code",
   "execution_count": 20,
   "metadata": {
    "ExecuteTime": {
     "end_time": "2021-01-16T05:25:30.403176Z",
     "start_time": "2021-01-16T05:25:30.398679Z"
    }
   },
   "outputs": [
    {
     "data": {
      "text/plain": [
       "0     1.014393\n",
       "1     0.818715\n",
       "2     1.003931\n",
       "3     1.151850\n",
       "4     1.039091\n",
       "5     1.170837\n",
       "6     1.071480\n",
       "7     1.227920\n",
       "8     0.896245\n",
       "9     1.182872\n",
       "10    1.164738\n",
       "11    1.144428\n",
       "12    0.936949\n",
       "13    1.052359\n",
       "14    1.052048\n",
       "15    0.986825\n",
       "16    1.052864\n",
       "17    1.049526\n",
       "18    1.000886\n",
       "19    1.023551\n",
       "20         NaN\n",
       "Name: Growth Rate - Chocolate, dtype: float64"
      ]
     },
     "execution_count": 20,
     "metadata": {},
     "output_type": "execute_result"
    }
   ],
   "source": [
    "df.iloc[:, 0]"
   ]
  },
  {
   "cell_type": "code",
   "execution_count": 28,
   "metadata": {
    "ExecuteTime": {
     "end_time": "2021-01-16T05:47:36.214325Z",
     "start_time": "2021-01-16T05:47:36.210374Z"
    }
   },
   "outputs": [],
   "source": [
    "# distribution_choc and distribution_van area already\n",
    "# calculated in previous sections\n",
    "growth_chocolate = distribution_choc.ppf(copula[:, 0])\n",
    "growth_vanilla = distribution_van.ppf(copula[:, 1])"
   ]
  },
  {
   "cell_type": "code",
   "execution_count": 29,
   "metadata": {
    "ExecuteTime": {
     "end_time": "2021-01-16T05:48:53.389385Z",
     "start_time": "2021-01-16T05:48:53.384586Z"
    }
   },
   "outputs": [
    {
     "data": {
      "text/plain": [
       "0.111"
      ]
     },
     "execution_count": 29,
     "metadata": {},
     "output_type": "execute_result"
    }
   ],
   "source": [
    "exceed_check(growth_vanilla, growth_chocolate)[1]"
   ]
  },
  {
   "cell_type": "markdown",
   "metadata": {},
   "source": [
    "# Method 3"
   ]
  },
  {
   "cell_type": "code",
   "execution_count": 40,
   "metadata": {
    "ExecuteTime": {
     "end_time": "2021-01-16T06:21:09.582598Z",
     "start_time": "2021-01-16T06:21:09.572167Z"
    }
   },
   "outputs": [
    {
     "data": {
      "text/plain": [
       "0.21"
      ]
     },
     "execution_count": 40,
     "metadata": {},
     "output_type": "execute_result"
    }
   ],
   "source": [
    "resampled_history = df[[\"Growth Rate - Chocolate\", \n",
    "    \"Growth Rate - Vanilla\"]].dropna(\n",
    "    ).sample(1000, replace=True, random_state=1)\n",
    "\n",
    "growth_chocolate = resampled_history[\"Growth Rate - Chocolate\"]\n",
    "growth_vanilla = resampled_history[\"Growth Rate - Vanilla\"]\n",
    "\n",
    "exceed_check(growth_vanilla, growth_chocolate)[1]"
   ]
  },
  {
   "cell_type": "code",
   "execution_count": 39,
   "metadata": {
    "ExecuteTime": {
     "end_time": "2021-01-16T06:20:33.984233Z",
     "start_time": "2021-01-16T06:20:33.979826Z"
    }
   },
   "outputs": [
    {
     "data": {
      "text/plain": [
       "5     1.170837\n",
       "11    1.144428\n",
       "12    0.936949\n",
       "8     0.896245\n",
       "9     1.182872\n",
       "        ...   \n",
       "0     1.014393\n",
       "8     0.896245\n",
       "8     0.896245\n",
       "14    1.052048\n",
       "4     1.039091\n",
       "Name: Growth Rate - Chocolate, Length: 1000, dtype: float64"
      ]
     },
     "execution_count": 39,
     "metadata": {},
     "output_type": "execute_result"
    }
   ],
   "source": [
    "growth_chocolate"
   ]
  },
  {
   "cell_type": "markdown",
   "metadata": {},
   "source": [
    "# Method 4"
   ]
  },
  {
   "cell_type": "code",
   "execution_count": 69,
   "metadata": {
    "ExecuteTime": {
     "end_time": "2021-01-16T08:34:20.625198Z",
     "start_time": "2021-01-16T08:34:20.617238Z"
    }
   },
   "outputs": [
    {
     "data": {
      "text/plain": [
       "array([[ 0.72525094, -0.2022741 ],\n",
       "       [ 3.55235903, -0.31365844],\n",
       "       [ 0.22357702,  0.44459331],\n",
       "       [-1.19045324, -0.19427543],\n",
       "       [ 0.36468059, -0.18447352],\n",
       "       [-1.59963849, -0.04860268],\n",
       "       [-0.42688513,  0.15757447],\n",
       "       [-2.26284298, -0.17761856],\n",
       "       [ 1.70023814,  0.46245534],\n",
       "       [-2.06573117,  0.25046424],\n",
       "       [-1.28772914, -0.27585532],\n",
       "       [-1.14002489, -0.14168946],\n",
       "       [ 1.49805509,  0.09973101],\n",
       "       [ 0.18259072, -0.18652927],\n",
       "       [ 0.09911791, -0.09873898],\n",
       "       [ 1.23016274, -0.32458507],\n",
       "       [ 0.08555886, -0.0964996 ],\n",
       "       [ 0.0144671 ,  0.02091939],\n",
       "       [ 0.35266424,  0.35776401],\n",
       "       [-0.05541734,  0.45129866]])"
      ]
     },
     "execution_count": 69,
     "metadata": {},
     "output_type": "execute_result"
    }
   ],
   "source": [
    "pca = PCA(n_components=2)\n",
    "\n",
    "# Normalize chocolate and vanilla growth rates to apply PCA\n",
    "normalized_chocolate = (\n",
    "    df[\"Growth Rate - Chocolate\"].dropna() - mean_choc\n",
    ") / std_choc\n",
    "\n",
    "normalized_vanilla = (\n",
    "    df[\"Growth Rate - Vanilla\"].dropna() - mean_van\n",
    ") / std_van\n",
    "\n",
    "# Apply PCA transformation on normalized values\n",
    "components = pca.fit_transform(\n",
    "    np.array([normalized_chocolate, \n",
    "    normalized_vanilla]).T)\n",
    "\n",
    "components"
   ]
  },
  {
   "cell_type": "code",
   "execution_count": 109,
   "metadata": {
    "ExecuteTime": {
     "end_time": "2021-01-16T09:19:37.319088Z",
     "start_time": "2021-01-16T09:19:37.270606Z"
    }
   },
   "outputs": [
    {
     "data": {
      "text/plain": [
       "[[-1.5996384910759995, 0.3577640096652263],\n",
       " [-1.1400248891403713, -0.17761855673211824],\n",
       " [1.4980550872979843, -0.2758553243500986],\n",
       " [1.700238135192337, -0.18652926748556856],\n",
       " [-2.0657311674019003, -0.14168946460076176],\n",
       " [-1.1400248891403713, -0.2758553243500986],\n",
       " [-1.5996384910759995, -0.2758553243500986],\n",
       " [1.2301627412649263, -0.3245850658218005],\n",
       " [0.7252509402381199, -0.1844735191782579],\n",
       " [0.08555886263231118, -0.14168946460076176],\n",
       " [3.55235902521922, -0.18652926748556856],\n",
       " [1.4980550872979843, 0.1575744735372638],\n",
       " [-2.2628429810463846, 0.444593305205839],\n",
       " [0.18259072419136732, -0.19427543180117068],\n",
       " [-0.42688512999587036, -0.2758553243500986],\n",
       " [0.35266424092871757, -0.1844735191782579],\n",
       " [-1.5996384910759995, -0.19427543180117068],\n",
       " [0.35266424092871757, -0.04860268028696451],\n",
       " [-1.1400248891403713, 0.3577640096652263],\n",
       " [-1.287729139765256, 0.1575744735372638],\n",
       " [0.09911791332487059, -0.18652926748556856],\n",
       " [0.35266424092871757, -0.0987389820694814],\n",
       " [0.36468059153568744, -0.0987389820694814],\n",
       " [-2.0657311674019003, 0.2504642427268319],\n",
       " [0.014467096318550428, 0.1575744735372638],\n",
       " [0.7252509402381199, -0.09649960306224427],\n",
       " [0.18259072419136732, -0.19427543180117068],\n",
       " [-2.0657311674019003, -0.17761855673211824],\n",
       " [-2.0657311674019003, 0.1575744735372638],\n",
       " [-2.2628429810463846, -0.2022741023042308],\n",
       " [3.55235902521922, 0.3577640096652263],\n",
       " [0.7252509402381199, 0.2504642427268319],\n",
       " [0.014467096318550428, 0.2504642427268319],\n",
       " [1.700238135192337, -0.19427543180117068],\n",
       " [0.18259072419136732, 0.3577640096652263],\n",
       " [-0.05541733874133305, -0.3245850658218005],\n",
       " [1.2301627412649263, -0.31365844169049706],\n",
       " [-1.287729139765256, -0.17761855673211824],\n",
       " [1.700238135192337, 0.4624553431790465],\n",
       " [-2.2628429810463846, -0.17761855673211824],\n",
       " [-1.1904532423338579, 0.4512986575362002],\n",
       " [-0.42688512999587036, -0.31365844169049706],\n",
       " [0.014467096318550428, -0.17761855673211824],\n",
       " [-1.1904532423338579, -0.19427543180117068],\n",
       " [0.36468059153568744, -0.17761855673211824],\n",
       " [0.014467096318550428, 0.2504642427268319],\n",
       " [-1.1400248891403713, 0.4512986575362002],\n",
       " [1.4980550872979843, 0.4624553431790465],\n",
       " [0.08555886263231118, -0.17761855673211824],\n",
       " [0.18259072419136732, -0.1844735191782579],\n",
       " [-0.05541733874133305, -0.18652926748556856],\n",
       " [-2.0657311674019003, 0.2504642427268319],\n",
       " [0.35266424092871757, -0.3245850658218005],\n",
       " [1.2301627412649263, -0.0987389820694814],\n",
       " [0.7252509402381199, -0.2022741023042308],\n",
       " [0.36468059153568744, 0.4512986575362002],\n",
       " [1.2301627412649263, 0.4512986575362002],\n",
       " [0.22357702135688173, -0.31365844169049706],\n",
       " [-2.2628429810463846, 0.4624553431790465],\n",
       " [1.700238135192337, -0.0987389820694814],\n",
       " [-2.0657311674019003, -0.2758553243500986],\n",
       " [-1.1904532423338579, -0.3245850658218005],\n",
       " [-2.2628429810463846, 0.3577640096652263],\n",
       " [0.36468059153568744, -0.19427543180117068],\n",
       " [-1.5996384910759995, -0.19427543180117068],\n",
       " [-0.05541733874133305, -0.17761855673211824],\n",
       " [-0.42688512999587036, -0.2758553243500986],\n",
       " [1.700238135192337, -0.2758553243500986],\n",
       " [0.7252509402381199, 0.4624553431790465],\n",
       " [0.22357702135688173, 0.09973101305029065],\n",
       " [-1.287729139765256, 0.3577640096652263],\n",
       " [1.2301627412649263, -0.17761855673211824],\n",
       " [1.2301627412649263, 0.4624553431790465],\n",
       " [-2.2628429810463846, -0.0987389820694814],\n",
       " [-0.05541733874133305, 0.444593305205839],\n",
       " [-1.287729139765256, -0.19427543180117068],\n",
       " [0.09911791332487059, -0.09649960306224427],\n",
       " [0.7252509402381199, -0.2758553243500986],\n",
       " [3.55235902521922, -0.1844735191782579],\n",
       " [0.014467096318550428, -0.09649960306224427],\n",
       " [0.18259072419136732, -0.3245850658218005],\n",
       " [-1.1904532423338579, -0.2758553243500986],\n",
       " [0.7252509402381199, 0.444593305205839],\n",
       " [0.18259072419136732, -0.18652926748556856],\n",
       " [-0.42688512999587036, -0.3245850658218005],\n",
       " [-0.42688512999587036, 0.4624553431790465],\n",
       " [0.22357702135688173, -0.19427543180117068],\n",
       " [1.4980550872979843, -0.09649960306224427],\n",
       " [-1.1400248891403713, -0.3245850658218005],\n",
       " [-2.2628429810463846, -0.0987389820694814],\n",
       " [0.18259072419136732, 0.020919394482495104],\n",
       " [1.700238135192337, -0.3245850658218005],\n",
       " [-1.1400248891403713, -0.19427543180117068],\n",
       " [1.4980550872979843, 0.2504642427268319],\n",
       " [-1.1400248891403713, -0.0987389820694814],\n",
       " [0.36468059153568744, 0.444593305205839],\n",
       " [-2.2628429810463846, 0.09973101305029065],\n",
       " [-2.2628429810463846, -0.2022741023042308],\n",
       " [0.18259072419136732, -0.31365844169049706],\n",
       " [0.36468059153568744, 0.444593305205839],\n",
       " [0.08555886263231118, -0.18652926748556856],\n",
       " [0.35266424092871757, -0.14168946460076176],\n",
       " [0.7252509402381199, 0.4512986575362002],\n",
       " [0.18259072419136732, -0.14168946460076176],\n",
       " [-1.287729139765256, 0.2504642427268319],\n",
       " [0.014467096318550428, -0.3245850658218005],\n",
       " [-2.2628429810463846, -0.18652926748556856],\n",
       " [-1.287729139765256, 0.4624553431790465],\n",
       " [0.7252509402381199, 0.1575744735372638],\n",
       " [1.4980550872979843, -0.3245850658218005],\n",
       " [3.55235902521922, 0.2504642427268319],\n",
       " [-2.0657311674019003, -0.0987389820694814],\n",
       " [0.35266424092871757, 0.3577640096652263],\n",
       " [-0.05541733874133305, -0.31365844169049706],\n",
       " [3.55235902521922, 0.1575744735372638],\n",
       " [0.22357702135688173, -0.14168946460076176],\n",
       " [1.4980550872979843, -0.0987389820694814],\n",
       " [-2.2628429810463846, 0.2504642427268319],\n",
       " [0.22357702135688173, -0.2758553243500986],\n",
       " [-1.287729139765256, -0.19427543180117068],\n",
       " [0.7252509402381199, 0.020919394482495104],\n",
       " [-2.0657311674019003, -0.3245850658218005],\n",
       " [0.35266424092871757, -0.19427543180117068],\n",
       " [-0.42688512999587036, -0.3245850658218005],\n",
       " [0.22357702135688173, 0.1575744735372638],\n",
       " [-2.2628429810463846, -0.2758553243500986],\n",
       " [-2.2628429810463846, -0.04860268028696451],\n",
       " [0.08555886263231118, -0.18652926748556856],\n",
       " [1.2301627412649263, -0.0987389820694814],\n",
       " [-1.5996384910759995, -0.3245850658218005],\n",
       " [0.014467096318550428, -0.1844735191782579],\n",
       " [-1.287729139765256, -0.09649960306224427],\n",
       " [0.08555886263231118, 0.4512986575362002],\n",
       " [-1.5996384910759995, 0.2504642427268319],\n",
       " [0.18259072419136732, 0.4512986575362002],\n",
       " [0.014467096318550428, 0.3577640096652263],\n",
       " [0.35266424092871757, -0.0987389820694814],\n",
       " [3.55235902521922, 0.1575744735372638],\n",
       " [-1.287729139765256, -0.04860268028696451],\n",
       " [0.7252509402381199, -0.1844735191782579],\n",
       " [-2.2628429810463846, -0.0987389820694814],\n",
       " [0.7252509402381199, -0.17761855673211824],\n",
       " [-0.05541733874133305, 0.444593305205839],\n",
       " [0.014467096318550428, -0.18652926748556856],\n",
       " [0.09911791332487059, -0.2758553243500986],\n",
       " [0.18259072419136732, 0.020919394482495104],\n",
       " [-1.1400248891403713, -0.31365844169049706],\n",
       " [-0.42688512999587036, -0.18652926748556856],\n",
       " [0.18259072419136732, -0.3245850658218005],\n",
       " [1.2301627412649263, 0.020919394482495104],\n",
       " [-2.0657311674019003, -0.31365844169049706],\n",
       " [0.22357702135688173, -0.14168946460076176],\n",
       " [-2.2628429810463846, -0.14168946460076176],\n",
       " [-1.5996384910759995, 0.444593305205839],\n",
       " [0.36468059153568744, 0.444593305205839],\n",
       " [-1.5996384910759995, -0.2022741023042308],\n",
       " [1.700238135192337, 0.4512986575362002],\n",
       " [0.18259072419136732, 0.4512986575362002],\n",
       " [0.014467096318550428, -0.17761855673211824],\n",
       " [0.014467096318550428, -0.19427543180117068],\n",
       " [1.2301627412649263, -0.3245850658218005],\n",
       " [0.18259072419136732, 0.09973101305029065],\n",
       " [1.700238135192337, -0.0987389820694814],\n",
       " [0.09911791332487059, 0.1575744735372638],\n",
       " [0.18259072419136732, -0.04860268028696451],\n",
       " [0.08555886263231118, 0.444593305205839],\n",
       " [-1.287729139765256, -0.2758553243500986],\n",
       " [0.18259072419136732, -0.3245850658218005],\n",
       " [-1.1904532423338579, -0.0987389820694814],\n",
       " [0.22357702135688173, -0.31365844169049706],\n",
       " [0.09911791332487059, -0.14168946460076176],\n",
       " [0.09911791332487059, 0.09973101305029065],\n",
       " [0.7252509402381199, -0.3245850658218005],\n",
       " [-1.1400248891403713, 0.3577640096652263],\n",
       " [-1.1904532423338579, -0.18652926748556856],\n",
       " [3.55235902521922, -0.31365844169049706],\n",
       " [0.22357702135688173, 0.1575744735372638],\n",
       " [-0.05541733874133305, -0.31365844169049706],\n",
       " [0.08555886263231118, 0.4512986575362002],\n",
       " [0.7252509402381199, -0.0987389820694814],\n",
       " [0.35266424092871757, -0.2022741023042308],\n",
       " [-1.287729139765256, -0.0987389820694814],\n",
       " [1.700238135192337, -0.31365844169049706],\n",
       " [0.18259072419136732, 0.09973101305029065],\n",
       " [-1.1904532423338579, -0.09649960306224427],\n",
       " [0.7252509402381199, -0.2022741023042308],\n",
       " [1.700238135192337, -0.18652926748556856],\n",
       " [0.18259072419136732, -0.18652926748556856],\n",
       " [0.35266424092871757, 0.3577640096652263],\n",
       " [1.2301627412649263, -0.1844735191782579],\n",
       " [-2.0657311674019003, -0.2758553243500986],\n",
       " [0.7252509402381199, -0.18652926748556856],\n",
       " [1.4980550872979843, -0.0987389820694814],\n",
       " [-0.05541733874133305, -0.17761855673211824],\n",
       " [0.014467096318550428, -0.19427543180117068],\n",
       " [-1.287729139765256, -0.31365844169049706],\n",
       " [1.4980550872979843, -0.2758553243500986],\n",
       " [1.2301627412649263, -0.2022741023042308],\n",
       " [0.09911791332487059, -0.04860268028696451],\n",
       " [-0.05541733874133305, 0.09973101305029065],\n",
       " [-0.05541733874133305, 0.020919394482495104],\n",
       " [-1.1400248891403713, -0.2758553243500986],\n",
       " [-2.2628429810463846, -0.0987389820694814],\n",
       " [-1.1904532423338579, -0.1844735191782579],\n",
       " [1.2301627412649263, 0.3577640096652263],\n",
       " [0.09911791332487059, 0.020919394482495104],\n",
       " [-0.05541733874133305, 0.4512986575362002],\n",
       " [0.22357702135688173, -0.3245850658218005],\n",
       " [0.36468059153568744, 0.020919394482495104],\n",
       " [0.36468059153568744, -0.17761855673211824],\n",
       " [0.7252509402381199, -0.17761855673211824],\n",
       " [-0.05541733874133305, -0.2022741023042308],\n",
       " [-1.1904532423338579, 0.444593305205839],\n",
       " [-0.05541733874133305, 0.4512986575362002],\n",
       " [-1.5996384910759995, -0.1844735191782579],\n",
       " [-0.42688512999587036, -0.09649960306224427],\n",
       " [1.2301627412649263, -0.18652926748556856],\n",
       " [-2.2628429810463846, -0.1844735191782579],\n",
       " [-1.5996384910759995, -0.1844735191782579],\n",
       " [1.2301627412649263, 0.444593305205839],\n",
       " [0.014467096318550428, 0.3577640096652263],\n",
       " [0.7252509402381199, -0.1844735191782579],\n",
       " [-1.287729139765256, 0.09973101305029065],\n",
       " [-1.287729139765256, -0.19427543180117068],\n",
       " [0.22357702135688173, -0.2022741023042308],\n",
       " [0.22357702135688173, 0.3577640096652263],\n",
       " [0.014467096318550428, 0.4512986575362002],\n",
       " [0.36468059153568744, -0.04860268028696451],\n",
       " [0.7252509402381199, -0.31365844169049706],\n",
       " [0.09911791332487059, -0.2022741023042308],\n",
       " [0.014467096318550428, 0.2504642427268319],\n",
       " [-2.2628429810463846, -0.19427543180117068],\n",
       " [-1.1904532423338579, 0.1575744735372638],\n",
       " [0.014467096318550428, -0.14168946460076176],\n",
       " [-0.42688512999587036, 0.09973101305029065],\n",
       " [-2.0657311674019003, -0.14168946460076176],\n",
       " [-1.287729139765256, -0.17761855673211824],\n",
       " [0.18259072419136732, -0.09649960306224427],\n",
       " [-0.42688512999587036, -0.2022741023042308],\n",
       " [-0.42688512999587036, 0.4624553431790465],\n",
       " [0.08555886263231118, -0.14168946460076176],\n",
       " [0.08555886263231118, 0.4512986575362002],\n",
       " [0.35266424092871757, -0.2758553243500986],\n",
       " [1.4980550872979843, 0.020919394482495104],\n",
       " [-2.0657311674019003, 0.3577640096652263],\n",
       " [0.7252509402381199, -0.2758553243500986],\n",
       " [0.08555886263231118, -0.17761855673211824],\n",
       " [-0.05541733874133305, 0.1575744735372638],\n",
       " [-2.0657311674019003, -0.17761855673211824],\n",
       " [0.08555886263231118, -0.3245850658218005],\n",
       " [-0.05541733874133305, 0.09973101305029065],\n",
       " [1.2301627412649263, 0.4512986575362002],\n",
       " [-1.287729139765256, -0.2022741023042308],\n",
       " [0.36468059153568744, -0.19427543180117068],\n",
       " [0.09911791332487059, 0.4512986575362002],\n",
       " [0.09911791332487059, -0.3245850658218005],\n",
       " [-1.1904532423338579, -0.19427543180117068],\n",
       " [0.08555886263231118, 0.020919394482495104],\n",
       " [0.09911791332487059, 0.444593305205839],\n",
       " [1.2301627412649263, -0.3245850658218005],\n",
       " [-2.2628429810463846, -0.2022741023042308],\n",
       " [0.09911791332487059, 0.4512986575362002],\n",
       " [0.18259072419136732, 0.09973101305029065],\n",
       " [1.2301627412649263, -0.2022741023042308],\n",
       " [0.35266424092871757, -0.31365844169049706],\n",
       " [0.09911791332487059, -0.18652926748556856],\n",
       " [1.4980550872979843, -0.2758553243500986],\n",
       " [-1.5996384910759995, 0.09973101305029065],\n",
       " [1.4980550872979843, -0.0987389820694814],\n",
       " [1.4980550872979843, -0.0987389820694814],\n",
       " [1.4980550872979843, 0.09973101305029065],\n",
       " [-2.2628429810463846, -0.14168946460076176],\n",
       " [-2.2628429810463846, 0.4624553431790465],\n",
       " [-1.1400248891403713, -0.2022741023042308],\n",
       " [1.4980550872979843, -0.09649960306224427],\n",
       " [0.35266424092871757, 0.1575744735372638],\n",
       " [-0.42688512999587036, -0.18652926748556856],\n",
       " [0.08555886263231118, -0.19427543180117068],\n",
       " [-1.5996384910759995, -0.17761855673211824],\n",
       " [0.22357702135688173, -0.0987389820694814],\n",
       " [3.55235902521922, 0.020919394482495104],\n",
       " [-1.1400248891403713, -0.09649960306224427],\n",
       " [-1.5996384910759995, -0.0987389820694814],\n",
       " [-2.0657311674019003, -0.18652926748556856],\n",
       " [-1.1400248891403713, 0.4512986575362002],\n",
       " [3.55235902521922, -0.3245850658218005],\n",
       " [0.35266424092871757, -0.31365844169049706],\n",
       " [0.7252509402381199, 0.2504642427268319],\n",
       " [-2.2628429810463846, -0.19427543180117068],\n",
       " [0.7252509402381199, 0.4512986575362002],\n",
       " [0.22357702135688173, 0.444593305205839],\n",
       " [-1.1904532423338579, -0.31365844169049706],\n",
       " [-0.42688512999587036, -0.19427543180117068],\n",
       " [1.4980550872979843, -0.0987389820694814],\n",
       " [-2.2628429810463846, -0.17761855673211824],\n",
       " [-0.42688512999587036, -0.2022741023042308],\n",
       " [-0.05541733874133305, -0.19427543180117068],\n",
       " [1.2301627412649263, -0.19427543180117068],\n",
       " [0.08555886263231118, -0.2022741023042308],\n",
       " [-0.42688512999587036, -0.0987389820694814],\n",
       " [0.18259072419136732, -0.19427543180117068],\n",
       " [0.36468059153568744, -0.1844735191782579],\n",
       " [0.22357702135688173, -0.2022741023042308],\n",
       " [-1.287729139765256, 0.4624553431790465],\n",
       " [-2.0657311674019003, -0.0987389820694814],\n",
       " [-2.0657311674019003, -0.0987389820694814],\n",
       " [0.18259072419136732, 0.4624553431790465],\n",
       " [1.4980550872979843, -0.3245850658218005],\n",
       " [0.35266424092871757, -0.17761855673211824],\n",
       " [-1.287729139765256, -0.2758553243500986],\n",
       " [-1.1400248891403713, -0.0987389820694814],\n",
       " [-2.0657311674019003, 0.4512986575362002],\n",
       " [0.36468059153568744, 0.3577640096652263],\n",
       " [0.08555886263231118, -0.0987389820694814],\n",
       " [0.08555886263231118, -0.2758553243500986],\n",
       " [-0.05541733874133305, -0.19427543180117068],\n",
       " [-1.287729139765256, 0.020919394482495104],\n",
       " [-1.1904532423338579, -0.3245850658218005],\n",
       " [-2.0657311674019003, -0.1844735191782579],\n",
       " [0.014467096318550428, -0.04860268028696451],\n",
       " [0.22357702135688173, 0.2504642427268319],\n",
       " [0.36468059153568744, -0.1844735191782579],\n",
       " [0.18259072419136732, 0.4624553431790465],\n",
       " [0.09911791332487059, -0.09649960306224427],\n",
       " [0.08555886263231118, 0.4624553431790465],\n",
       " [1.700238135192337, 0.1575744735372638],\n",
       " [0.22357702135688173, 0.1575744735372638],\n",
       " [-1.1904532423338579, -0.0987389820694814],\n",
       " [0.18259072419136732, -0.2758553243500986],\n",
       " [-2.0657311674019003, -0.1844735191782579],\n",
       " [0.36468059153568744, -0.2022741023042308],\n",
       " [0.36468059153568744, -0.1844735191782579],\n",
       " [1.700238135192337, 0.09973101305029065],\n",
       " [0.35266424092871757, -0.04860268028696451],\n",
       " [3.55235902521922, 0.2504642427268319],\n",
       " [-0.42688512999587036, 0.3577640096652263],\n",
       " [-0.05541733874133305, -0.09649960306224427],\n",
       " [0.09911791332487059, 0.3577640096652263],\n",
       " [1.700238135192337, -0.19427543180117068],\n",
       " [-2.2628429810463846, 0.1575744735372638],\n",
       " [0.08555886263231118, 0.4624553431790465],\n",
       " [-1.5996384910759995, -0.3245850658218005],\n",
       " [0.22357702135688173, -0.17761855673211824],\n",
       " [0.22357702135688173, 0.444593305205839],\n",
       " [0.09911791332487059, 0.020919394482495104],\n",
       " [-1.1400248891403713, -0.19427543180117068],\n",
       " [-1.287729139765256, -0.31365844169049706],\n",
       " [1.700238135192337, -0.3245850658218005],\n",
       " [0.08555886263231118, -0.3245850658218005],\n",
       " [-1.5996384910759995, -0.3245850658218005],\n",
       " [-2.0657311674019003, 0.444593305205839],\n",
       " [0.18259072419136732, 0.444593305205839],\n",
       " [1.700238135192337, 0.4512986575362002],\n",
       " [-1.287729139765256, 0.3577640096652263],\n",
       " [-1.1400248891403713, 0.1575744735372638],\n",
       " [-0.42688512999587036, -0.2758553243500986],\n",
       " [0.7252509402381199, 0.3577640096652263],\n",
       " [0.09911791332487059, 0.020919394482495104],\n",
       " [0.36468059153568744, 0.020919394482495104],\n",
       " [-1.1400248891403713, -0.04860268028696451],\n",
       " [-1.1904532423338579, 0.4624553431790465],\n",
       " [0.7252509402381199, -0.0987389820694814],\n",
       " [0.09911791332487059, 0.3577640096652263],\n",
       " [0.014467096318550428, -0.3245850658218005],\n",
       " [-0.42688512999587036, 0.4512986575362002],\n",
       " [0.7252509402381199, -0.2022741023042308],\n",
       " [3.55235902521922, -0.04860268028696451],\n",
       " [-0.42688512999587036, 0.4624553431790465],\n",
       " [0.36468059153568744, 0.3577640096652263],\n",
       " [0.35266424092871757, 0.2504642427268319],\n",
       " [-1.5996384910759995, -0.1844735191782579],\n",
       " [-0.42688512999587036, -0.09649960306224427],\n",
       " [0.35266424092871757, -0.3245850658218005],\n",
       " [0.35266424092871757, -0.2022741023042308],\n",
       " [0.09911791332487059, 0.4512986575362002],\n",
       " [-2.2628429810463846, 0.2504642427268319],\n",
       " [0.08555886263231118, 0.1575744735372638],\n",
       " [-2.2628429810463846, -0.2022741023042308],\n",
       " [-1.1400248891403713, -0.09649960306224427],\n",
       " [0.09911791332487059, 0.3577640096652263],\n",
       " [1.700238135192337, -0.09649960306224427],\n",
       " [1.700238135192337, -0.31365844169049706],\n",
       " [1.700238135192337, 0.2504642427268319],\n",
       " [0.08555886263231118, -0.2022741023042308],\n",
       " [0.22357702135688173, 0.09973101305029065],\n",
       " [0.7252509402381199, -0.2022741023042308],\n",
       " [-2.2628429810463846, 0.4624553431790465],\n",
       " [1.4980550872979843, 0.020919394482495104],\n",
       " [0.014467096318550428, 0.4512986575362002],\n",
       " [3.55235902521922, -0.31365844169049706],\n",
       " [-1.287729139765256, 0.3577640096652263],\n",
       " [-2.0657311674019003, -0.0987389820694814],\n",
       " [-1.1400248891403713, -0.19427543180117068],\n",
       " [-1.5996384910759995, 0.444593305205839],\n",
       " [0.014467096318550428, 0.020919394482495104],\n",
       " [-1.5996384910759995, 0.1575744735372638],\n",
       " [-1.287729139765256, -0.04860268028696451],\n",
       " [0.09911791332487059, -0.31365844169049706],\n",
       " [0.014467096318550428, 0.09973101305029065],\n",
       " [-1.287729139765256, -0.04860268028696451],\n",
       " [1.700238135192337, -0.3245850658218005],\n",
       " [0.08555886263231118, -0.31365844169049706],\n",
       " [-0.05541733874133305, 0.1575744735372638],\n",
       " [1.4980550872979843, -0.3245850658218005],\n",
       " [0.18259072419136732, -0.19427543180117068],\n",
       " [0.08555886263231118, -0.2022741023042308],\n",
       " [0.36468059153568744, 0.09973101305029065],\n",
       " [0.35266424092871757, -0.0987389820694814],\n",
       " [0.36468059153568744, -0.19427543180117068],\n",
       " [-1.1904532423338579, 0.444593305205839],\n",
       " [1.4980550872979843, -0.14168946460076176],\n",
       " [0.22357702135688173, 0.2504642427268319],\n",
       " [1.4980550872979843, -0.0987389820694814],\n",
       " [0.7252509402381199, 0.020919394482495104],\n",
       " [0.7252509402381199, -0.18652926748556856],\n",
       " [1.2301627412649263, 0.3577640096652263],\n",
       " [0.36468059153568744, -0.1844735191782579],\n",
       " [-1.287729139765256, -0.17761855673211824],\n",
       " [1.4980550872979843, -0.19427543180117068],\n",
       " [0.35266424092871757, 0.09973101305029065],\n",
       " [-1.5996384910759995, 0.020919394482495104],\n",
       " [0.08555886263231118, -0.18652926748556856],\n",
       " [0.7252509402381199, -0.17761855673211824],\n",
       " [-1.1400248891403713, 0.2504642427268319],\n",
       " [1.4980550872979843, 0.4624553431790465],\n",
       " [-1.1400248891403713, -0.17761855673211824],\n",
       " [-1.1904532423338579, -0.2022741023042308],\n",
       " [1.4980550872979843, 0.020919394482495104],\n",
       " [1.2301627412649263, 0.2504642427268319],\n",
       " [-0.05541733874133305, -0.17761855673211824],\n",
       " [0.18259072419136732, -0.31365844169049706],\n",
       " [3.55235902521922, -0.19427543180117068],\n",
       " [0.36468059153568744, -0.14168946460076176],\n",
       " [-2.2628429810463846, -0.17761855673211824],\n",
       " [-1.1904532423338579, 0.3577640096652263],\n",
       " [0.22357702135688173, 0.3577640096652263],\n",
       " [0.22357702135688173, -0.31365844169049706],\n",
       " [-1.287729139765256, 0.444593305205839],\n",
       " [0.09911791332487059, 0.444593305205839],\n",
       " [0.35266424092871757, 0.020919394482495104],\n",
       " [-0.42688512999587036, -0.14168946460076176],\n",
       " [-0.42688512999587036, 0.3577640096652263],\n",
       " [0.08555886263231118, -0.14168946460076176],\n",
       " [0.014467096318550428, -0.14168946460076176],\n",
       " [-1.5996384910759995, 0.4512986575362002],\n",
       " [-0.42688512999587036, -0.19427543180117068],\n",
       " [1.700238135192337, 0.4512986575362002],\n",
       " [1.700238135192337, -0.2022741023042308],\n",
       " [-1.5996384910759995, 0.4512986575362002],\n",
       " [-1.5996384910759995, 0.020919394482495104],\n",
       " [-2.2628429810463846, -0.2022741023042308],\n",
       " [0.09911791332487059, -0.19427543180117068],\n",
       " [-1.5996384910759995, 0.020919394482495104],\n",
       " [-2.0657311674019003, -0.04860268028696451],\n",
       " [0.09911791332487059, -0.14168946460076176],\n",
       " [3.55235902521922, -0.04860268028696451],\n",
       " [-0.05541733874133305, 0.2504642427268319],\n",
       " [0.18259072419136732, -0.0987389820694814],\n",
       " [-1.1400248891403713, -0.2758553243500986],\n",
       " [0.09911791332487059, -0.2022741023042308],\n",
       " [-2.0657311674019003, 0.1575744735372638],\n",
       " [-1.1904532423338579, -0.2758553243500986],\n",
       " [-1.1904532423338579, 0.4624553431790465],\n",
       " [-1.1904532423338579, 0.3577640096652263],\n",
       " [3.55235902521922, 0.4624553431790465],\n",
       " [-1.1904532423338579, -0.04860268028696451],\n",
       " [0.08555886263231118, -0.09649960306224427],\n",
       " [-1.5996384910759995, -0.3245850658218005],\n",
       " [0.7252509402381199, 0.4624553431790465],\n",
       " [-1.5996384910759995, -0.2758553243500986],\n",
       " [0.35266424092871757, 0.3577640096652263],\n",
       " [0.09911791332487059, -0.2758553243500986],\n",
       " [-2.2628429810463846, 0.4624553431790465],\n",
       " [-0.42688512999587036, -0.1844735191782579],\n",
       " [-1.287729139765256, 0.020919394482495104],\n",
       " [0.7252509402381199, 0.3577640096652263],\n",
       " [0.09911791332487059, 0.020919394482495104],\n",
       " [0.35266424092871757, -0.0987389820694814],\n",
       " [0.36468059153568744, -0.18652926748556856],\n",
       " [-2.2628429810463846, -0.09649960306224427],\n",
       " [-2.2628429810463846, 0.020919394482495104],\n",
       " [-1.287729139765256, -0.09649960306224427],\n",
       " [1.4980550872979843, 0.020919394482495104],\n",
       " [0.014467096318550428, 0.4512986575362002],\n",
       " [-2.2628429810463846, -0.0987389820694814],\n",
       " [-2.2628429810463846, -0.2758553243500986],\n",
       " [-0.05541733874133305, -0.1844735191782579],\n",
       " [-0.05541733874133305, -0.17761855673211824],\n",
       " [0.7252509402381199, 0.444593305205839],\n",
       " [1.4980550872979843, 0.2504642427268319],\n",
       " [-0.42688512999587036, -0.19427543180117068],\n",
       " [-0.05541733874133305, 0.3577640096652263],\n",
       " [0.7252509402381199, -0.18652926748556856],\n",
       " [-1.5996384910759995, -0.14168946460076176],\n",
       " [-2.0657311674019003, -0.18652926748556856],\n",
       " [1.4980550872979843, 0.444593305205839],\n",
       " [0.18259072419136732, 0.020919394482495104],\n",
       " [-0.42688512999587036, 0.444593305205839],\n",
       " [0.35266424092871757, 0.4512986575362002],\n",
       " [0.35266424092871757, -0.19427543180117068],\n",
       " [0.014467096318550428, 0.4512986575362002],\n",
       " [0.22357702135688173, 0.444593305205839],\n",
       " [-0.05541733874133305, -0.2758553243500986],\n",
       " [0.18259072419136732, 0.4624553431790465],\n",
       " [-1.1400248891403713, -0.14168946460076176],\n",
       " [-0.05541733874133305, 0.020919394482495104],\n",
       " [1.2301627412649263, -0.1844735191782579],\n",
       " [-2.2628429810463846, -0.0987389820694814],\n",
       " [0.08555886263231118, -0.19427543180117068],\n",
       " [-0.05541733874133305, 0.4624553431790465],\n",
       " [-1.1400248891403713, -0.14168946460076176],\n",
       " [-0.05541733874133305, -0.19427543180117068],\n",
       " [1.2301627412649263, 0.4624553431790465],\n",
       " [-0.42688512999587036, 0.020919394482495104],\n",
       " [-1.1400248891403713, 0.4512986575362002],\n",
       " [-1.5996384910759995, -0.0987389820694814],\n",
       " [3.55235902521922, -0.2022741023042308],\n",
       " [1.2301627412649263, 0.444593305205839],\n",
       " [-0.05541733874133305, 0.4512986575362002],\n",
       " [0.22357702135688173, 0.3577640096652263],\n",
       " [0.18259072419136732, -0.09649960306224427],\n",
       " [-0.05541733874133305, -0.2758553243500986],\n",
       " [-1.287729139765256, -0.0987389820694814],\n",
       " [0.18259072419136732, -0.3245850658218005],\n",
       " [-2.2628429810463846, -0.04860268028696451],\n",
       " [0.35266424092871757, 0.4624553431790465],\n",
       " [1.700238135192337, 0.1575744735372638],\n",
       " [1.4980550872979843, 0.4512986575362002],\n",
       " [0.08555886263231118, 0.09973101305029065],\n",
       " [0.014467096318550428, -0.31365844169049706],\n",
       " [-1.1400248891403713, -0.1844735191782579],\n",
       " [-0.42688512999587036, 0.3577640096652263],\n",
       " [0.7252509402381199, -0.1844735191782579],\n",
       " [0.08555886263231118, -0.09649960306224427],\n",
       " [3.55235902521922, -0.0987389820694814],\n",
       " [0.35266424092871757, 0.09973101305029065],\n",
       " [-2.2628429810463846, -0.19427543180117068],\n",
       " [0.09911791332487059, -0.17761855673211824],\n",
       " [0.36468059153568744, -0.0987389820694814],\n",
       " [0.7252509402381199, -0.2022741023042308],\n",
       " [3.55235902521922, -0.19427543180117068],\n",
       " [0.08555886263231118, -0.14168946460076176],\n",
       " [0.22357702135688173, 0.4624553431790465],\n",
       " [0.36468059153568744, 0.444593305205839],\n",
       " [-1.1904532423338579, -0.31365844169049706],\n",
       " [0.08555886263231118, -0.0987389820694814],\n",
       " [0.35266424092871757, -0.19427543180117068],\n",
       " [3.55235902521922, -0.31365844169049706],\n",
       " [-1.1400248891403713, 0.444593305205839],\n",
       " [-1.1400248891403713, 0.4624553431790465],\n",
       " [1.4980550872979843, -0.3245850658218005],\n",
       " [0.36468059153568744, -0.18652926748556856],\n",
       " [0.18259072419136732, -0.2758553243500986],\n",
       " [0.7252509402381199, -0.09649960306224427],\n",
       " [1.700238135192337, -0.3245850658218005],\n",
       " [-2.2628429810463846, -0.2758553243500986],\n",
       " [-2.2628429810463846, 0.09973101305029065],\n",
       " [3.55235902521922, -0.31365844169049706],\n",
       " [-2.2628429810463846, -0.2022741023042308],\n",
       " [0.22357702135688173, -0.19427543180117068],\n",
       " [0.36468059153568744, 0.020919394482495104],\n",
       " [-1.5996384910759995, -0.2022741023042308],\n",
       " [-2.2628429810463846, 0.1575744735372638],\n",
       " [0.35266424092871757, -0.19427543180117068],\n",
       " [1.4980550872979843, -0.2758553243500986],\n",
       " [0.18259072419136732, -0.04860268028696451],\n",
       " [0.7252509402381199, -0.31365844169049706],\n",
       " [0.35266424092871757, -0.1844735191782579],\n",
       " [-2.2628429810463846, 0.2504642427268319],\n",
       " [1.2301627412649263, -0.0987389820694814],\n",
       " [-2.0657311674019003, -0.2022741023042308],\n",
       " [3.55235902521922, -0.17761855673211824],\n",
       " [3.55235902521922, -0.14168946460076176],\n",
       " [0.18259072419136732, -0.18652926748556856],\n",
       " [-0.42688512999587036, -0.04860268028696451],\n",
       " [-0.42688512999587036, -0.2758553243500986],\n",
       " [3.55235902521922, -0.19427543180117068],\n",
       " [3.55235902521922, -0.17761855673211824],\n",
       " [0.014467096318550428, -0.18652926748556856],\n",
       " [0.35266424092871757, -0.04860268028696451],\n",
       " [-0.42688512999587036, -0.09649960306224427],\n",
       " [-1.1400248891403713, -0.14168946460076176],\n",
       " [0.35266424092871757, -0.0987389820694814],\n",
       " [-1.1904532423338579, -0.17761855673211824],\n",
       " [-0.05541733874133305, -0.14168946460076176],\n",
       " [0.22357702135688173, -0.2022741023042308],\n",
       " [-1.1904532423338579, -0.0987389820694814],\n",
       " [0.7252509402381199, -0.0987389820694814],\n",
       " [-1.287729139765256, -0.31365844169049706],\n",
       " [0.7252509402381199, -0.0987389820694814],\n",
       " [3.55235902521922, -0.2022741023042308],\n",
       " [-1.5996384910759995, -0.0987389820694814],\n",
       " [0.7252509402381199, 0.444593305205839],\n",
       " [-1.5996384910759995, -0.19427543180117068],\n",
       " [0.09911791332487059, -0.17761855673211824],\n",
       " [1.700238135192337, -0.17761855673211824],\n",
       " [-1.1400248891403713, -0.17761855673211824],\n",
       " [1.4980550872979843, -0.09649960306224427],\n",
       " [0.08555886263231118, 0.444593305205839],\n",
       " [0.7252509402381199, -0.04860268028696451],\n",
       " [0.7252509402381199, 0.1575744735372638],\n",
       " [-2.0657311674019003, 0.3577640096652263],\n",
       " [0.09911791332487059, 0.4512986575362002],\n",
       " [-1.1904532423338579, -0.3245850658218005],\n",
       " [0.36468059153568744, -0.0987389820694814],\n",
       " [0.7252509402381199, 0.4624553431790465],\n",
       " [0.18259072419136732, -0.18652926748556856],\n",
       " [-0.42688512999587036, 0.09973101305029065],\n",
       " [-0.05541733874133305, -0.04860268028696451],\n",
       " [-1.287729139765256, -0.14168946460076176],\n",
       " [0.7252509402381199, -0.3245850658218005],\n",
       " [1.700238135192337, -0.0987389820694814],\n",
       " [3.55235902521922, 0.020919394482495104],\n",
       " [-0.42688512999587036, 0.444593305205839],\n",
       " [3.55235902521922, 0.1575744735372638],\n",
       " [-0.05541733874133305, -0.2758553243500986],\n",
       " [-2.2628429810463846, -0.04860268028696451],\n",
       " [0.18259072419136732, -0.14168946460076176],\n",
       " [-1.1904532423338579, 0.09973101305029065],\n",
       " [1.2301627412649263, 0.1575744735372638],\n",
       " [0.22357702135688173, 0.4624553431790465],\n",
       " [1.2301627412649263, 0.09973101305029065],\n",
       " [-0.05541733874133305, -0.0987389820694814],\n",
       " [0.7252509402381199, -0.0987389820694814],\n",
       " [0.35266424092871757, 0.3577640096652263],\n",
       " [1.700238135192337, -0.17761855673211824],\n",
       " [0.22357702135688173, 0.3577640096652263],\n",
       " [0.7252509402381199, 0.2504642427268319],\n",
       " [0.014467096318550428, -0.0987389820694814],\n",
       " [0.09911791332487059, -0.31365844169049706],\n",
       " [-0.05541733874133305, -0.3245850658218005],\n",
       " [-2.0657311674019003, 0.2504642427268319],\n",
       " [1.700238135192337, 0.09973101305029065],\n",
       " [0.09911791332487059, -0.18652926748556856],\n",
       " [0.35266424092871757, -0.1844735191782579],\n",
       " [0.36468059153568744, -0.17761855673211824],\n",
       " [-2.0657311674019003, -0.04860268028696451],\n",
       " [0.7252509402381199, 0.1575744735372638],\n",
       " [-1.287729139765256, -0.14168946460076176],\n",
       " [3.55235902521922, -0.31365844169049706],\n",
       " [-0.42688512999587036, 0.4512986575362002],\n",
       " [-1.5996384910759995, -0.09649960306224427],\n",
       " [-1.1400248891403713, -0.18652926748556856],\n",
       " [-2.2628429810463846, 0.4624553431790465],\n",
       " [3.55235902521922, 0.444593305205839],\n",
       " [-2.0657311674019003, -0.2022741023042308],\n",
       " [-2.2628429810463846, -0.3245850658218005],\n",
       " [-1.5996384910759995, 0.4512986575362002],\n",
       " [-0.42688512999587036, -0.1844735191782579],\n",
       " [-1.287729139765256, -0.17761855673211824],\n",
       " [-2.2628429810463846, -0.31365844169049706],\n",
       " [-1.5996384910759995, 0.4624553431790465],\n",
       " [-0.42688512999587036, 0.4624553431790465],\n",
       " [0.36468059153568744, -0.2022741023042308],\n",
       " [0.22357702135688173, 0.1575744735372638],\n",
       " [-1.287729139765256, -0.2022741023042308],\n",
       " [0.7252509402381199, -0.17761855673211824],\n",
       " [0.08555886263231118, 0.1575744735372638],\n",
       " [-1.1904532423338579, 0.020919394482495104],\n",
       " [0.09911791332487059, 0.3577640096652263],\n",
       " [1.4980550872979843, 0.1575744735372638],\n",
       " [0.08555886263231118, -0.19427543180117068],\n",
       " [-0.05541733874133305, -0.2758553243500986],\n",
       " [-1.5996384910759995, 0.3577640096652263],\n",
       " [0.014467096318550428, -0.09649960306224427],\n",
       " [-1.287729139765256, 0.020919394482495104],\n",
       " [-1.1400248891403713, -0.14168946460076176],\n",
       " [0.09911791332487059, -0.0987389820694814],\n",
       " [3.55235902521922, -0.2758553243500986],\n",
       " [1.700238135192337, 0.1575744735372638],\n",
       " [0.36468059153568744, 0.4624553431790465],\n",
       " [-2.2628429810463846, 0.444593305205839],\n",
       " [0.7252509402381199, -0.31365844169049706],\n",
       " [1.2301627412649263, -0.2022741023042308],\n",
       " [3.55235902521922, 0.09973101305029065],\n",
       " [-2.2628429810463846, 0.1575744735372638],\n",
       " [3.55235902521922, -0.04860268028696451],\n",
       " [0.09911791332487059, -0.04860268028696451],\n",
       " [0.18259072419136732, -0.0987389820694814],\n",
       " [-1.1400248891403713, -0.2022741023042308],\n",
       " [0.36468059153568744, -0.04860268028696451],\n",
       " [1.4980550872979843, -0.17761855673211824],\n",
       " [0.35266424092871757, -0.04860268028696451],\n",
       " [-1.5996384910759995, -0.09649960306224427],\n",
       " [-1.1904532423338579, -0.1844735191782579],\n",
       " [1.4980550872979843, -0.2022741023042308],\n",
       " [-2.0657311674019003, -0.18652926748556856],\n",
       " [-1.1904532423338579, 0.1575744735372638],\n",
       " [-1.5996384910759995, -0.2022741023042308],\n",
       " [3.55235902521922, -0.04860268028696451],\n",
       " [1.4980550872979843, -0.3245850658218005],\n",
       " [-2.0657311674019003, -0.04860268028696451],\n",
       " [-1.1400248891403713, -0.31365844169049706],\n",
       " [0.7252509402381199, -0.2022741023042308],\n",
       " [1.2301627412649263, 0.09973101305029065],\n",
       " [1.700238135192337, -0.09649960306224427],\n",
       " [-0.42688512999587036, -0.2022741023042308],\n",
       " [0.014467096318550428, -0.31365844169049706],\n",
       " [0.35266424092871757, 0.4512986575362002],\n",
       " [0.7252509402381199, -0.09649960306224427],\n",
       " [-0.42688512999587036, 0.2504642427268319],\n",
       " [3.55235902521922, 0.09973101305029065],\n",
       " [0.08555886263231118, -0.2758553243500986],\n",
       " [-0.05541733874133305, 0.020919394482495104],\n",
       " [0.7252509402381199, -0.0987389820694814],\n",
       " [-1.287729139765256, -0.17761855673211824],\n",
       " [1.2301627412649263, 0.09973101305029065],\n",
       " [3.55235902521922, -0.17761855673211824],\n",
       " [3.55235902521922, 0.1575744735372638],\n",
       " [-0.42688512999587036, 0.3577640096652263],\n",
       " [1.4980550872979843, -0.2022741023042308],\n",
       " [0.08555886263231118, -0.2758553243500986],\n",
       " [0.35266424092871757, 0.09973101305029065],\n",
       " [0.18259072419136732, -0.04860268028696451],\n",
       " [0.18259072419136732, -0.14168946460076176],\n",
       " [1.4980550872979843, -0.3245850658218005],\n",
       " [-0.05541733874133305, 0.444593305205839],\n",
       " [-2.2628429810463846, -0.0987389820694814],\n",
       " [0.22357702135688173, 0.1575744735372638],\n",
       " [1.2301627412649263, -0.2758553243500986],\n",
       " [-1.5996384910759995, -0.31365844169049706],\n",
       " [-0.42688512999587036, -0.19427543180117068],\n",
       " [0.7252509402381199, 0.2504642427268319],\n",
       " [0.36468059153568744, -0.17761855673211824],\n",
       " [0.22357702135688173, 0.1575744735372638],\n",
       " [-0.05541733874133305, 0.2504642427268319],\n",
       " [0.09911791332487059, -0.2022741023042308],\n",
       " [3.55235902521922, 0.3577640096652263],\n",
       " [0.7252509402381199, -0.31365844169049706],\n",
       " [-1.5996384910759995, -0.1844735191782579],\n",
       " [-2.2628429810463846, 0.09973101305029065],\n",
       " [0.08555886263231118, 0.1575744735372638],\n",
       " [0.35266424092871757, 0.4512986575362002],\n",
       " [0.35266424092871757, 0.1575744735372638],\n",
       " [0.7252509402381199, -0.18652926748556856],\n",
       " [-1.1400248891403713, -0.09649960306224427],\n",
       " [-2.0657311674019003, 0.444593305205839],\n",
       " [-1.5996384910759995, -0.3245850658218005],\n",
       " [3.55235902521922, 0.444593305205839],\n",
       " [3.55235902521922, -0.17761855673211824],\n",
       " [-0.05541733874133305, -0.2758553243500986],\n",
       " [0.35266424092871757, 0.020919394482495104],\n",
       " [0.014467096318550428, 0.3577640096652263],\n",
       " [0.014467096318550428, 0.444593305205839],\n",
       " [0.35266424092871757, 0.2504642427268319],\n",
       " [-2.2628429810463846, -0.2022741023042308],\n",
       " [0.35266424092871757, -0.17761855673211824],\n",
       " [0.09911791332487059, -0.04860268028696451],\n",
       " [1.4980550872979843, 0.4624553431790465],\n",
       " [-2.0657311674019003, 0.2504642427268319],\n",
       " [0.36468059153568744, -0.31365844169049706],\n",
       " [0.18259072419136732, -0.14168946460076176],\n",
       " [-0.05541733874133305, 0.444593305205839],\n",
       " [-1.5996384910759995, 0.4624553431790465],\n",
       " [0.7252509402381199, 0.09973101305029065],\n",
       " [0.35266424092871757, -0.14168946460076176],\n",
       " [3.55235902521922, 0.4624553431790465],\n",
       " [0.09911791332487059, 0.444593305205839],\n",
       " [-2.0657311674019003, 0.3577640096652263],\n",
       " [0.36468059153568744, 0.2504642427268319],\n",
       " [-0.05541733874133305, 0.444593305205839],\n",
       " [1.700238135192337, -0.3245850658218005],\n",
       " [0.18259072419136732, 0.444593305205839],\n",
       " [1.4980550872979843, -0.09649960306224427],\n",
       " [0.09911791332487059, 0.020919394482495104],\n",
       " [0.014467096318550428, -0.31365844169049706],\n",
       " [-1.1400248891403713, -0.14168946460076176],\n",
       " [1.700238135192337, -0.31365844169049706],\n",
       " [-1.287729139765256, 0.020919394482495104],\n",
       " [0.35266424092871757, -0.2022741023042308],\n",
       " [0.35266424092871757, -0.14168946460076176],\n",
       " [-1.5996384910759995, -0.04860268028696451],\n",
       " [1.2301627412649263, -0.0987389820694814],\n",
       " [-1.287729139765256, -0.14168946460076176],\n",
       " [0.09911791332487059, 0.09973101305029065],\n",
       " [-0.05541733874133305, -0.09649960306224427],\n",
       " [-2.0657311674019003, -0.1844735191782579],\n",
       " [-1.287729139765256, 0.020919394482495104],\n",
       " [0.18259072419136732, -0.0987389820694814],\n",
       " [0.35266424092871757, 0.2504642427268319],\n",
       " [0.18259072419136732, 0.4512986575362002],\n",
       " [3.55235902521922, -0.2022741023042308],\n",
       " [0.09911791332487059, -0.17761855673211824],\n",
       " [1.2301627412649263, -0.2022741023042308],\n",
       " [1.700238135192337, -0.0987389820694814],\n",
       " [0.014467096318550428, -0.09649960306224427],\n",
       " [1.700238135192337, -0.04860268028696451],\n",
       " [3.55235902521922, -0.09649960306224427],\n",
       " [0.22357702135688173, -0.1844735191782579],\n",
       " [3.55235902521922, 0.1575744735372638],\n",
       " [1.700238135192337, -0.17761855673211824],\n",
       " [-0.05541733874133305, 0.2504642427268319],\n",
       " [-2.2628429810463846, 0.444593305205839],\n",
       " [0.08555886263231118, 0.444593305205839],\n",
       " [0.18259072419136732, -0.1844735191782579],\n",
       " [0.08555886263231118, -0.18652926748556856],\n",
       " [0.7252509402381199, 0.444593305205839],\n",
       " [-1.287729139765256, -0.19427543180117068],\n",
       " [-2.2628429810463846, -0.2022741023042308],\n",
       " [-1.1904532423338579, 0.444593305205839],\n",
       " [-1.1400248891403713, 0.1575744735372638],\n",
       " [-1.1400248891403713, -0.09649960306224427],\n",
       " [-1.287729139765256, -0.04860268028696451],\n",
       " [0.22357702135688173, 0.020919394482495104],\n",
       " [3.55235902521922, 0.1575744735372638],\n",
       " [-1.1400248891403713, 0.3577640096652263],\n",
       " [0.22357702135688173, -0.0987389820694814],\n",
       " [-1.287729139765256, -0.04860268028696451],\n",
       " [-1.5996384910759995, -0.2022741023042308],\n",
       " [-1.1904532423338579, 0.2504642427268319],\n",
       " [-1.1400248891403713, -0.31365844169049706],\n",
       " [-1.1904532423338579, 0.020919394482495104],\n",
       " [3.55235902521922, -0.18652926748556856],\n",
       " [0.18259072419136732, -0.19427543180117068],\n",
       " [0.014467096318550428, 0.2504642427268319],\n",
       " [1.700238135192337, 0.09973101305029065],\n",
       " [-0.42688512999587036, 0.09973101305029065],\n",
       " [0.36468059153568744, -0.18652926748556856],\n",
       " [-0.42688512999587036, 0.2504642427268319],\n",
       " [1.4980550872979843, 0.1575744735372638],\n",
       " [-2.0657311674019003, -0.18652926748556856],\n",
       " [-1.5996384910759995, -0.0987389820694814],\n",
       " [1.2301627412649263, -0.17761855673211824],\n",
       " [-2.2628429810463846, -0.17761855673211824],\n",
       " [-1.1400248891403713, 0.444593305205839],\n",
       " [0.22357702135688173, -0.2022741023042308],\n",
       " [0.7252509402381199, 0.2504642427268319],\n",
       " [0.09911791332487059, -0.0987389820694814],\n",
       " [-1.1400248891403713, -0.18652926748556856],\n",
       " [0.35266424092871757, 0.020919394482495104],\n",
       " [1.4980550872979843, 0.2504642427268319],\n",
       " [0.7252509402381199, -0.2758553243500986],\n",
       " [-1.5996384910759995, 0.1575744735372638],\n",
       " [1.2301627412649263, 0.444593305205839],\n",
       " [-2.0657311674019003, -0.18652926748556856],\n",
       " [1.2301627412649263, -0.0987389820694814],\n",
       " [3.55235902521922, -0.2022741023042308],\n",
       " [-1.5996384910759995, -0.2758553243500986],\n",
       " [0.22357702135688173, 0.3577640096652263],\n",
       " [-0.05541733874133305, 0.4512986575362002],\n",
       " [-1.1400248891403713, -0.2758553243500986],\n",
       " [0.014467096318550428, -0.1844735191782579],\n",
       " [-1.5996384910759995, -0.14168946460076176],\n",
       " [0.18259072419136732, 0.3577640096652263],\n",
       " [1.2301627412649263, 0.1575744735372638],\n",
       " [-1.287729139765256, -0.1844735191782579],\n",
       " [0.014467096318550428, -0.3245850658218005],\n",
       " [0.014467096318550428, -0.17761855673211824],\n",
       " [0.09911791332487059, -0.09649960306224427],\n",
       " [-2.2628429810463846, -0.0987389820694814],\n",
       " [0.014467096318550428, -0.04860268028696451],\n",
       " [0.35266424092871757, -0.19427543180117068],\n",
       " [0.7252509402381199, 0.4624553431790465],\n",
       " [-2.2628429810463846, 0.3577640096652263],\n",
       " [-1.1904532423338579, -0.0987389820694814],\n",
       " [-1.1400248891403713, -0.09649960306224427],\n",
       " [0.22357702135688173, 0.09973101305029065],\n",
       " [1.700238135192337, -0.04860268028696451],\n",
       " [-1.5996384910759995, 0.4512986575362002],\n",
       " [0.35266424092871757, 0.09973101305029065],\n",
       " [-2.0657311674019003, -0.2758553243500986],\n",
       " [0.22357702135688173, 0.4624553431790465],\n",
       " [0.22357702135688173, -0.14168946460076176],\n",
       " [-0.05541733874133305, 0.4624553431790465],\n",
       " [0.18259072419136732, -0.3245850658218005],\n",
       " [-1.5996384910759995, -0.04860268028696451],\n",
       " [0.36468059153568744, -0.04860268028696451],\n",
       " [-1.1400248891403713, -0.09649960306224427],\n",
       " [-1.1400248891403713, 0.020919394482495104],\n",
       " [1.4980550872979843, -0.1844735191782579],\n",
       " [0.7252509402381199, -0.18652926748556856],\n",
       " [0.35266424092871757, 0.3577640096652263],\n",
       " [1.700238135192337, 0.3577640096652263],\n",
       " [-0.05541733874133305, -0.17761855673211824],\n",
       " [-1.287729139765256, 0.020919394482495104],\n",
       " [-0.05541733874133305, -0.04860268028696451],\n",
       " [-1.1400248891403713, 0.4512986575362002],\n",
       " [0.35266424092871757, 0.4624553431790465],\n",
       " [-0.05541733874133305, -0.3245850658218005],\n",
       " [1.700238135192337, -0.1844735191782579],\n",
       " [0.7252509402381199, -0.09649960306224427],\n",
       " [0.35266424092871757, -0.2022741023042308],\n",
       " [-0.05541733874133305, -0.2758553243500986],\n",
       " [-1.287729139765256, -0.04860268028696451],\n",
       " [-1.1400248891403713, -0.17761855673211824],\n",
       " [-2.0657311674019003, -0.0987389820694814],\n",
       " [-2.2628429810463846, -0.2758553243500986],\n",
       " [-0.42688512999587036, -0.0987389820694814],\n",
       " [-1.1904532423338579, -0.04860268028696451],\n",
       " [0.35266424092871757, 0.09973101305029065],\n",
       " [1.4980550872979843, -0.3245850658218005],\n",
       " [-2.0657311674019003, -0.04860268028696451],\n",
       " [-1.287729139765256, 0.09973101305029065],\n",
       " [3.55235902521922, -0.3245850658218005],\n",
       " [-1.287729139765256, 0.2504642427268319],\n",
       " [-0.42688512999587036, -0.17761855673211824],\n",
       " [-2.0657311674019003, 0.444593305205839],\n",
       " [0.36468059153568744, -0.0987389820694814],\n",
       " [1.700238135192337, -0.14168946460076176],\n",
       " [0.35266424092871757, 0.444593305205839],\n",
       " [-1.287729139765256, -0.1844735191782579],\n",
       " [-1.1904532423338579, -0.09649960306224427],\n",
       " [0.09911791332487059, -0.3245850658218005],\n",
       " [-1.1400248891403713, -0.04860268028696451],\n",
       " [-2.0657311674019003, -0.19427543180117068],\n",
       " [-1.287729139765256, -0.2022741023042308],\n",
       " [0.22357702135688173, -0.2022741023042308],\n",
       " [-1.1400248891403713, 0.020919394482495104],\n",
       " [0.08555886263231118, -0.0987389820694814],\n",
       " [0.18259072419136732, -0.19427543180117068],\n",
       " [-1.287729139765256, 0.020919394482495104],\n",
       " [-1.1904532423338579, -0.19427543180117068],\n",
       " [-1.1400248891403713, -0.0987389820694814],\n",
       " [-1.287729139765256, 0.3577640096652263],\n",
       " [0.22357702135688173, -0.1844735191782579],\n",
       " [1.4980550872979843, -0.0987389820694814],\n",
       " [-1.287729139765256, 0.3577640096652263],\n",
       " [0.35266424092871757, -0.2758553243500986],\n",
       " [1.700238135192337, 0.1575744735372638],\n",
       " [0.7252509402381199, -0.31365844169049706],\n",
       " [0.18259072419136732, -0.2022741023042308],\n",
       " [0.35266424092871757, -0.2022741023042308],\n",
       " [-0.42688512999587036, 0.09973101305029065],\n",
       " [-1.1400248891403713, 0.4624553431790465],\n",
       " [-0.05541733874133305, -0.14168946460076176],\n",
       " [1.4980550872979843, -0.04860268028696451],\n",
       " [0.36468059153568744, 0.3577640096652263],\n",
       " [0.18259072419136732, -0.04860268028696451],\n",
       " [1.700238135192337, -0.04860268028696451],\n",
       " [-1.1904532423338579, -0.0987389820694814],\n",
       " [-1.5996384910759995, 0.444593305205839],\n",
       " [0.22357702135688173, -0.2022741023042308],\n",
       " [0.7252509402381199, -0.19427543180117068],\n",
       " [-2.2628429810463846, 0.444593305205839],\n",
       " [1.700238135192337, 0.4512986575362002],\n",
       " [3.55235902521922, -0.18652926748556856],\n",
       " [0.36468059153568744, -0.0987389820694814],\n",
       " [-0.42688512999587036, -0.18652926748556856],\n",
       " [3.55235902521922, -0.09649960306224427],\n",
       " [-2.0657311674019003, -0.2022741023042308],\n",
       " [-1.1904532423338579, 0.4624553431790465],\n",
       " [0.09911791332487059, 0.020919394482495104],\n",
       " [-1.1904532423338579, 0.2504642427268319],\n",
       " [-0.05541733874133305, 0.1575744735372638],\n",
       " [0.18259072419136732, 0.4512986575362002],\n",
       " [-0.05541733874133305, -0.17761855673211824],\n",
       " [0.36468059153568744, -0.04860268028696451],\n",
       " [1.2301627412649263, 0.2504642427268319],\n",
       " [-1.1400248891403713, -0.04860268028696451],\n",
       " [0.36468059153568744, 0.3577640096652263],\n",
       " [1.4980550872979843, -0.09649960306224427],\n",
       " [-0.42688512999587036, -0.2022741023042308],\n",
       " [-0.05541733874133305, 0.2504642427268319],\n",
       " [0.08555886263231118, -0.04860268028696451],\n",
       " [1.2301627412649263, -0.0987389820694814],\n",
       " [0.36468059153568744, 0.444593305205839],\n",
       " [-1.287729139765256, -0.09649960306224427],\n",
       " [-0.42688512999587036, 0.1575744735372638],\n",
       " [0.36468059153568744, -0.18652926748556856],\n",
       " [-1.1904532423338579, 0.3577640096652263],\n",
       " [0.7252509402381199, -0.09649960306224427],\n",
       " [-0.42688512999587036, 0.444593305205839],\n",
       " [0.35266424092871757, -0.2022741023042308],\n",
       " [-2.0657311674019003, -0.17761855673211824],\n",
       " [0.35266424092871757, -0.1844735191782579],\n",
       " [0.08555886263231118, 0.444593305205839],\n",
       " [-1.287729139765256, 0.2504642427268319],\n",
       " [0.014467096318550428, -0.14168946460076176],\n",
       " [0.35266424092871757, -0.19427543180117068],\n",
       " [0.7252509402381199, -0.2758553243500986],\n",
       " [-0.42688512999587036, -0.17761855673211824],\n",
       " [0.18259072419136732, 0.4512986575362002],\n",
       " [0.7252509402381199, 0.2504642427268319],\n",
       " [0.7252509402381199, -0.17761855673211824],\n",
       " [0.35266424092871757, -0.0987389820694814],\n",
       " [3.55235902521922, -0.04860268028696451],\n",
       " [-1.5996384910759995, 0.4512986575362002],\n",
       " [0.18259072419136732, -0.09649960306224427],\n",
       " [1.700238135192337, -0.18652926748556856],\n",
       " [0.35266424092871757, 0.3577640096652263],\n",
       " [0.35266424092871757, 0.020919394482495104],\n",
       " [-0.42688512999587036, -0.1844735191782579],\n",
       " [0.014467096318550428, -0.19427543180117068],\n",
       " [0.35266424092871757, 0.2504642427268319],\n",
       " [-0.42688512999587036, 0.4512986575362002],\n",
       " [0.36468059153568744, -0.04860268028696451],\n",
       " [-1.5996384910759995, 0.1575744735372638],\n",
       " [0.22357702135688173, -0.2758553243500986],\n",
       " [-0.05541733874133305, 0.4624553431790465],\n",
       " [0.36468059153568744, 0.09973101305029065],\n",
       " [0.014467096318550428, 0.2504642427268319],\n",
       " [0.18259072419136732, 0.444593305205839],\n",
       " [-1.287729139765256, 0.4512986575362002],\n",
       " [-0.05541733874133305, -0.19427543180117068],\n",
       " [0.014467096318550428, 0.444593305205839],\n",
       " [0.7252509402381199, 0.4624553431790465],\n",
       " [1.700238135192337, 0.1575744735372638],\n",
       " [1.700238135192337, -0.14168946460076176],\n",
       " [0.09911791332487059, -0.18652926748556856],\n",
       " [0.36468059153568744, 0.1575744735372638]]"
      ]
     },
     "execution_count": 109,
     "metadata": {},
     "output_type": "execute_result"
    }
   ],
   "source": [
    "np.random.seed(1)\n",
    "\n",
    "sampled_components = [[x[0], x[1]] for x in zip(\n",
    "    # Sampling 1000 entries from first PCA component\n",
    "    np.random.choice(components[:, 0], 1000),\n",
    "    # 2nd PCA component\n",
    "    np.random.choice(components[:, 1], 1000))]\n",
    "\n",
    "sampled_components"
   ]
  },
  {
   "cell_type": "code",
   "execution_count": 111,
   "metadata": {
    "ExecuteTime": {
     "end_time": "2021-01-16T09:23:23.811586Z",
     "start_time": "2021-01-16T09:23:23.801545Z"
    }
   },
   "outputs": [],
   "source": [
    "inverse_pca = pca.inverse_transform(sampled_components)\n",
    "\n",
    "# Denormalizing\n",
    "growth_chocolate = [(x * std_choc) + mean_choc \n",
    "    for x in inverse_pca[:, 0]]\n",
    "growth_vanilla = [(x * std_van) + mean_van \n",
    "    for x in inverse_pca[:, 1]]"
   ]
  },
  {
   "cell_type": "code",
   "execution_count": 113,
   "metadata": {
    "ExecuteTime": {
     "end_time": "2021-01-16T09:24:36.890928Z",
     "start_time": "2021-01-16T09:24:36.881755Z"
    }
   },
   "outputs": [
    {
     "data": {
      "text/plain": [
       "0.171"
      ]
     },
     "execution_count": 113,
     "metadata": {},
     "output_type": "execute_result"
    }
   ],
   "source": [
    "exceed_check(growth_vanilla, growth_chocolate)[1]"
   ]
  },
  {
   "cell_type": "markdown",
   "metadata": {},
   "source": [
    "# Conclusion"
   ]
  },
  {
   "cell_type": "code",
   "execution_count": 192,
   "metadata": {
    "ExecuteTime": {
     "end_time": "2021-01-16T15:48:33.610869Z",
     "start_time": "2021-01-16T15:48:33.305360Z"
    }
   },
   "outputs": [
    {
     "data": {
      "image/png": "[encoded data removed]",
      "text/plain": [
       "<Figure size 960x720 with 1 Axes>"
      ]
     },
     "metadata": {},
     "output_type": "display_data"
    }
   ],
   "source": [
    "methods = [\n",
    "    \"Wrong method 1 - Independent (parametric)\",\n",
    "    \"Wrong method 2 - Independent (non-parametric)\",\n",
    "    \"Method 1 - Multivariate normal distribution\",\n",
    "    \"Method 2 - Copula with normal distributions\",\n",
    "    \"Method 3 - Nonparametric (resampling from history)\",\n",
    "    \"Method 4 - Nonparametric + PCA\"\n",
    "]\n",
    "\n",
    "results = [\n",
    "    0.341,\n",
    "    0.359,\n",
    "    0.113,\n",
    "    0.111,\n",
    "    0.21,\n",
    "    0.17\n",
    "]\n",
    "\n",
    "plt.style.use(\"fivethirtyeight\")\n",
    "plt.rc('ytick', labelsize=20) \n",
    "\n",
    "plt.figure(figsize=(12, 9))\n",
    "\n",
    "plt.barh(y=methods, width=results)\n",
    "\n",
    "for idx, result in enumerate(results):\n",
    "    label = f\"{round(result*100, 2)}%\"\n",
    "    plt.text(result+0.005, idx, label)\n",
    "\n",
    "plt.show()"
   ]
  },
  {
   "cell_type": "code",
   "execution_count": 157,
   "metadata": {
    "ExecuteTime": {
     "end_time": "2021-01-16T15:31:34.389772Z",
     "start_time": "2021-01-16T15:31:34.385393Z"
    }
   },
   "outputs": [
    {
     "data": {
      "text/plain": [
       "['Solarize_Light2',\n",
       " '_classic_test_patch',\n",
       " 'bmh',\n",
       " 'classic',\n",
       " 'dark_background',\n",
       " 'fast',\n",
       " 'fivethirtyeight',\n",
       " 'ggplot',\n",
       " 'grayscale',\n",
       " 'seaborn',\n",
       " 'seaborn-bright',\n",
       " 'seaborn-colorblind',\n",
       " 'seaborn-dark',\n",
       " 'seaborn-dark-palette',\n",
       " 'seaborn-darkgrid',\n",
       " 'seaborn-deep',\n",
       " 'seaborn-muted',\n",
       " 'seaborn-notebook',\n",
       " 'seaborn-paper',\n",
       " 'seaborn-pastel',\n",
       " 'seaborn-poster',\n",
       " 'seaborn-talk',\n",
       " 'seaborn-ticks',\n",
       " 'seaborn-white',\n",
       " 'seaborn-whitegrid',\n",
       " 'tableau-colorblind10']"
      ]
     },
     "execution_count": 157,
     "metadata": {},
     "output_type": "execute_result"
    }
   ],
   "source": [
    "plt.style.available"
   ]
  },
  {
   "cell_type": "code",
   "execution_count": null,
   "metadata": {},
   "outputs": [],
   "source": []
  }
 ],
 "metadata": {
  "kernelspec": {
   "display_name": "Python 3",
   "language": "python",
   "name": "python3"
  },
  "toc": {
   "base_numbering": 1,
   "nav_menu": {},
   "number_sections": true,
   "sideBar": true,
   "skip_h1_title": false,
   "title_cell": "Table of Contents",
   "title_sidebar": "Contents",
   "toc_cell": false,
   "toc_position": {},
   "toc_section_display": true,
   "toc_window_display": false
  },
  "varInspector": {
   "cols": {
    "lenName": 16,
    "lenType": 16,
    "lenVar": 40
   },
   "kernels_config": {
    "python": {
     "delete_cmd_postfix": "",
     "delete_cmd_prefix": "del ",
     "library": "var_list.py",
     "varRefreshCmd": "print(var_dic_list())"
    },
    "r": {
     "delete_cmd_postfix": ") ",
     "delete_cmd_prefix": "rm(",
     "library": "var_list.r",
     "varRefreshCmd": "cat(var_dic_list()) "
    }
   },
   "types_to_exclude": [
    "module",
    "function",
    "builtin_function_or_method",
    "instance",
    "_Feature"
   ],
   "window_display": false
  }
 },
 "nbformat": 4,
 "nbformat_minor": 2
}
